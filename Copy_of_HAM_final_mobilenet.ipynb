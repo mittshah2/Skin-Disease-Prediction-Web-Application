{
  "nbformat": 4,
  "nbformat_minor": 0,
  "metadata": {
    "colab": {
      "name": "Copy of HAM final.ipynb",
      "provenance": [],
      "collapsed_sections": [],
      "machine_shape": "hm",
      "mount_file_id": "1MFjgnfyeAuPiA8b3YrotzmsTOGckgXEc",
      "authorship_tag": "ABX9TyMtm9w4poAgPTOiIdktRyRJ",
      "include_colab_link": true
    },
    "kernelspec": {
      "name": "python3",
      "display_name": "Python 3"
    },
    "accelerator": "GPU"
  },
  "cells": [
    {
      "cell_type": "markdown",
      "metadata": {
        "id": "view-in-github",
        "colab_type": "text"
      },
      "source": [
        "<a href=\"https://colab.research.google.com/github/mittshah2/Skin-Disease-Prediction-Web-Application/blob/dev/Copy_of_HAM_final.ipynb\" target=\"_parent\"><img src=\"https://colab.research.google.com/assets/colab-badge.svg\" alt=\"Open In Colab\"/></a>"
      ]
    },
    {
      "cell_type": "code",
      "metadata": {
        "id": "FXdkx-ZtOIUL",
        "colab_type": "code",
        "colab": {}
      },
      "source": [
        "import os\n",
        "import pandas as pd\n",
        "import numpy as np\n",
        "import matplotlib.pyplot as p\n",
        "import PIL as pil\n",
        "from tensorflow.keras.preprocessing.image import ImageDataGenerator\n",
        "from tensorflow.keras.utils import to_categorical,normalize\n",
        "import cv2\n",
        "from cv2 import cvtColor\n",
        "from tqdm import tqdm\n",
        "from tensorflow.keras.applications.mobilenet_v2 import MobileNetV2,preprocess_input"
      ],
      "execution_count": 0,
      "outputs": []
    },
    {
      "cell_type": "code",
      "metadata": {
        "id": "-1sJpAHfOgMI",
        "colab_type": "code",
        "colab": {}
      },
      "source": [
        "# !unzip -uq 'drive/My Drive/Actinic keratoses.zip' -d '/'\n",
        "# !unzip -uq 'drive/My Drive/Basal cell carcinoma.zip' -d '/'\n",
        "# !unzip -uq 'drive/My Drive/Benign keratosis-like lesions.zip' -d '/'\n",
        "# !unzip -uq 'drive/My Drive/Melanocytic nevi.zip' -d '/'\n",
        "# !unzip -uq 'drive/My Drive/Dermatofibroma.zip' -d '/'\n",
        "# !unzip -uq 'drive/My Drive/Melanoma.zip' -d '/'\n",
        "# !unzip -uq 'drive/My Drive/Vascular lesions.zip' -d '/'"
      ],
      "execution_count": 0,
      "outputs": []
    },
    {
      "cell_type": "code",
      "metadata": {
        "id": "EmbAmYamO0NF",
        "colab_type": "code",
        "colab": {}
      },
      "source": [
        "datagen=ImageDataGenerator(samplewise_center=True,samplewise_std_normalization=True,preprocessing_function=preprocess_input)"
      ],
      "execution_count": 0,
      "outputs": []
    },
    {
      "cell_type": "code",
      "metadata": {
        "id": "EbdsQlhMO4NT",
        "colab_type": "code",
        "colab": {}
      },
      "source": [
        "input_shape=(224,224,3)"
      ],
      "execution_count": 0,
      "outputs": []
    },
    {
      "cell_type": "code",
      "metadata": {
        "id": "jjnphAwYO6p-",
        "colab_type": "code",
        "colab": {}
      },
      "source": [
        "# data=[]\n",
        "# for i in tqdm(os.listdir('/Actinic keratoses')):\n",
        "#   path='/Actinic keratoses/'+str(i)\n",
        "#   img=cv2.imread(path)  \n",
        "#   img=cv2.cvtColor(img,cv2.COLOR_BGR2GRAY)\n",
        "#   img=cv2.resize(img,input_shape[:2])\n",
        "#   data.append(img)\n",
        "# x=np.asarray(data)"
      ],
      "execution_count": 0,
      "outputs": []
    },
    {
      "cell_type": "code",
      "metadata": {
        "id": "kyoOPh0NPRSl",
        "colab_type": "code",
        "colab": {}
      },
      "source": [
        "# data=[]\n",
        "# for i in tqdm(os.listdir('/Basal cell carcinoma')):\n",
        "#   path='/Basal cell carcinoma/'+str(i)\n",
        "#   img=cv2.imread(path)\n",
        "#   img=cv2.cvtColor(img,cv2.COLOR_BGR2GRAY)\n",
        "#   img=cv2.resize(img,input_shape[:2])\n",
        "#   data.append(img)\n",
        "# x=np.append(x,data,axis=0)"
      ],
      "execution_count": 0,
      "outputs": []
    },
    {
      "cell_type": "code",
      "metadata": {
        "id": "K__p4EDdFLax",
        "colab_type": "code",
        "colab": {}
      },
      "source": [
        "# x.shape"
      ],
      "execution_count": 0,
      "outputs": []
    },
    {
      "cell_type": "code",
      "metadata": {
        "id": "MQlFPL9yQgHu",
        "colab_type": "code",
        "colab": {}
      },
      "source": [
        "# data=[]\n",
        "# for i in tqdm(os.listdir('/Benign keratosis-like lesions')):\n",
        "#   path='/Benign keratosis-like lesions/'+str(i)\n",
        "#   img=cv2.imread(path)\n",
        "#   img=cv2.cvtColor(img,cv2.COLOR_BGR2GRAY)\n",
        "#   img=cv2.resize(img,input_shape[:2])\n",
        "#   data.append(img)\n",
        "# x=np.append(x,data,axis=0)"
      ],
      "execution_count": 0,
      "outputs": []
    },
    {
      "cell_type": "code",
      "metadata": {
        "id": "3R0ivPSTQjAy",
        "colab_type": "code",
        "colab": {}
      },
      "source": [
        "# data=[]\n",
        "# for i in tqdm(os.listdir('/Dermatofibroma')):\n",
        "#   path='/Dermatofibroma/'+str(i)\n",
        "#   img=cv2.imread(path)\n",
        "#   img=cv2.cvtColor(img,cv2.COLOR_BGR2GRAY)\n",
        "#   img=cv2.resize(img,input_shape[:2])\n",
        "#   data.append(img)\n",
        "# x=np.append(x,data,axis=0)"
      ],
      "execution_count": 0,
      "outputs": []
    },
    {
      "cell_type": "code",
      "metadata": {
        "id": "Nft7m58uQjmf",
        "colab_type": "code",
        "colab": {}
      },
      "source": [
        "# data=[]\n",
        "# for i in tqdm(os.listdir('/Melanocytic nevi')):\n",
        "#   path='/Melanocytic nevi/'+str(i)\n",
        "#   img=cv2.imread(path)\n",
        "#   img=cv2.cvtColor(img,cv2.COLOR_BGR2GRAY)\n",
        "#   img=cv2.resize(img,input_shape[:2])\n",
        "#   data.append(img)\n",
        "# x=np.append(x,data,axis=0)"
      ],
      "execution_count": 0,
      "outputs": []
    },
    {
      "cell_type": "code",
      "metadata": {
        "id": "HDnx7Dsq2lBr",
        "colab_type": "code",
        "colab": {}
      },
      "source": [
        "# len(data)"
      ],
      "execution_count": 0,
      "outputs": []
    },
    {
      "cell_type": "code",
      "metadata": {
        "id": "d63stFJ9Qjpm",
        "colab_type": "code",
        "colab": {}
      },
      "source": [
        "# data=[]\n",
        "# for i in tqdm(os.listdir('/Melanoma')):\n",
        "#   path='/Melanoma/'+str(i)\n",
        "#   img=cv2.imread(path)\n",
        "#   img=cv2.cvtColor(img,cv2.COLOR_BGR2GRAY)\n",
        "#   img=cv2.resize(img,input_shape[:2])\n",
        "#   data.append(img)\n",
        "# x=np.append(x,data,axis=0)"
      ],
      "execution_count": 0,
      "outputs": []
    },
    {
      "cell_type": "code",
      "metadata": {
        "id": "WCr72Ld8Qjtw",
        "colab_type": "code",
        "colab": {}
      },
      "source": [
        "# data=[]\n",
        "# for i in tqdm(os.listdir('/Vascular lesions')):\n",
        "#   path='/Vascular lesions/'+str(i)\n",
        "#   img=cv2.imread(path)\n",
        "#   img=cv2.cvtColor(img,cv2.COLOR_BGR2GRAY)\n",
        "#   img=cv2.resize(img,input_shape[:2])\n",
        "#   data.append(img)\n",
        "# x=np.append(x,data,axis=0)"
      ],
      "execution_count": 0,
      "outputs": []
    },
    {
      "cell_type": "code",
      "metadata": {
        "id": "F7jDvEOuQoQd",
        "colab_type": "code",
        "colab": {}
      },
      "source": [
        "# x.shape"
      ],
      "execution_count": 0,
      "outputs": []
    },
    {
      "cell_type": "code",
      "metadata": {
        "id": "M-Yg7ZmjQqdd",
        "colab_type": "code",
        "colab": {}
      },
      "source": [
        "# np.save('drive/My Drive/data of ham gray.npy',x)"
      ],
      "execution_count": 0,
      "outputs": []
    },
    {
      "cell_type": "code",
      "metadata": {
        "id": "pUhiOMRXW3Nu",
        "colab_type": "code",
        "colab": {}
      },
      "source": [
        "x=np.load('drive/My Drive/HAM/data of ham(224x224).npy')"
      ],
      "execution_count": 0,
      "outputs": []
    },
    {
      "cell_type": "code",
      "metadata": {
        "id": "1nGg529ZtMjh",
        "colab_type": "code",
        "outputId": "219d9feb-7117-49b4-f7e4-88b1534521c4",
        "colab": {
          "base_uri": "https://localhost:8080/",
          "height": 36
        }
      },
      "source": [
        "x.shape"
      ],
      "execution_count": 17,
      "outputs": [
        {
          "output_type": "execute_result",
          "data": {
            "text/plain": [
              "(9895, 224, 224, 3)"
            ]
          },
          "metadata": {
            "tags": []
          },
          "execution_count": 17
        }
      ]
    },
    {
      "cell_type": "code",
      "metadata": {
        "id": "ddqdHcbWQsdG",
        "colab_type": "code",
        "outputId": "e4fc8fef-3663-40c2-fc24-b06bcee44762",
        "colab": {
          "base_uri": "https://localhost:8080/",
          "height": 36
        }
      },
      "source": [
        "y=[]\n",
        "for i in range(130):\n",
        "  y.append(0)\n",
        "for i in range(514):\n",
        "  y.append(1)\n",
        "for i in range(1176):\n",
        "  y.append(2)\n",
        "for i in range(115):\n",
        "  y.append(3)\n",
        "for i in range(6705):\n",
        "  y.append(4)\n",
        "for i in range(1113):\n",
        "  y.append(5)\n",
        "for i in range(142):\n",
        "  y.append(6)\n",
        "len(y)"
      ],
      "execution_count": 18,
      "outputs": [
        {
          "output_type": "execute_result",
          "data": {
            "text/plain": [
              "9895"
            ]
          },
          "metadata": {
            "tags": []
          },
          "execution_count": 18
        }
      ]
    },
    {
      "cell_type": "code",
      "metadata": {
        "id": "Tb9CPe_lQuOo",
        "colab_type": "code",
        "outputId": "065c416a-81c4-428b-8ad8-3b46e9711627",
        "colab": {
          "base_uri": "https://localhost:8080/",
          "height": 36
        }
      },
      "source": [
        "y=np.asarray(y)\n",
        "y.shape"
      ],
      "execution_count": 19,
      "outputs": [
        {
          "output_type": "execute_result",
          "data": {
            "text/plain": [
              "(9895,)"
            ]
          },
          "metadata": {
            "tags": []
          },
          "execution_count": 19
        }
      ]
    },
    {
      "cell_type": "code",
      "metadata": {
        "id": "2EaGKIf6QwMG",
        "colab_type": "code",
        "outputId": "7d20fa25-6b09-4cbf-ff18-9ab371eddb27",
        "colab": {
          "base_uri": "https://localhost:8080/",
          "height": 36
        }
      },
      "source": [
        "y=to_categorical(y)\n",
        "y.shape"
      ],
      "execution_count": 20,
      "outputs": [
        {
          "output_type": "execute_result",
          "data": {
            "text/plain": [
              "(9895, 7)"
            ]
          },
          "metadata": {
            "tags": []
          },
          "execution_count": 20
        }
      ]
    },
    {
      "cell_type": "code",
      "metadata": {
        "id": "9OYd7gQXbtk9",
        "colab_type": "code",
        "colab": {}
      },
      "source": [
        "from sklearn.model_selection import train_test_split\n",
        "\n",
        "trainx,trainy,testx,testy = train_test_split(x,y,test_size=0.2,random_state=42)"
      ],
      "execution_count": 0,
      "outputs": []
    },
    {
      "cell_type": "code",
      "metadata": {
        "id": "Iqg6bpORcFwU",
        "colab_type": "code",
        "colab": {}
      },
      "source": [
        "datagen.fit(trainx,augment=True,seed=42)"
      ],
      "execution_count": 0,
      "outputs": []
    },
    {
      "cell_type": "code",
      "metadata": {
        "id": "bvCN-iaG_mTR",
        "colab_type": "code",
        "colab": {}
      },
      "source": [
        "pre_trained_model = MobileNetV2(input_shape = input_shape, \n",
        "                                include_top = False, \n",
        "                                weights = 'imagenet')"
      ],
      "execution_count": 0,
      "outputs": []
    },
    {
      "cell_type": "code",
      "metadata": {
        "id": "vYkqDpzB_oDx",
        "colab_type": "code",
        "colab": {}
      },
      "source": [
        "for layer in pre_trained_model.layers:\n",
        "  layer.trainable = False"
      ],
      "execution_count": 0,
      "outputs": []
    },
    {
      "cell_type": "code",
      "metadata": {
        "id": "2lh2bIDE_p8p",
        "colab_type": "code",
        "colab": {}
      },
      "source": [
        "# pre_trained_model.summary()"
      ],
      "execution_count": 0,
      "outputs": []
    },
    {
      "cell_type": "code",
      "metadata": {
        "id": "SMfjF0yl_sR5",
        "colab_type": "code",
        "outputId": "30943c6d-94de-4bcf-90bc-db86c35091c4",
        "colab": {
          "base_uri": "https://localhost:8080/",
          "height": 36
        }
      },
      "source": [
        "last_layer = pre_trained_model.get_layer('out_relu')\n",
        "print('last layer output shape: ', last_layer.output_shape)\n",
        "last_output = last_layer.output"
      ],
      "execution_count": 26,
      "outputs": [
        {
          "output_type": "stream",
          "text": [
            "last layer output shape:  (None, 7, 7, 1280)\n"
          ],
          "name": "stdout"
        }
      ]
    },
    {
      "cell_type": "code",
      "metadata": {
        "id": "pU1VGuCu_ujw",
        "colab_type": "code",
        "colab": {}
      },
      "source": [
        "from tensorflow.keras.layers import Flatten,Dense,Dropout,BatchNormalization\n",
        "\n",
        "model = Flatten()(last_output)\n",
        "model = Dense(512, activation='relu')(model)\n",
        "model = Dropout(0.4)(model)\n",
        "model=BatchNormalization()(model)\n",
        "model = Dense(512, activation='relu')(model)\n",
        "model = Dropout(0.4)(model)\n",
        "model=BatchNormalization()(model)\n",
        "model = Dense(7, activation='softmax')(model) "
      ],
      "execution_count": 0,
      "outputs": []
    },
    {
      "cell_type": "code",
      "metadata": {
        "id": "azNyqGayALze",
        "colab_type": "code",
        "colab": {}
      },
      "source": [
        "from tensorflow.keras.models import Model\n",
        "from tensorflow.keras.metrics import Recall\n",
        "from tensorflow.keras.optimizers import RMSprop\n",
        "\n",
        "recall=Recall()\n",
        "fmodel = Model( pre_trained_model.input, model) \n",
        "\n",
        "fmodel.compile(optimizer = 'adam', \n",
        "              loss = 'categorical_crossentropy', \n",
        "              metrics = ['accuracy',recall])\n",
        "# model.summary()"
      ],
      "execution_count": 0,
      "outputs": []
    },
    {
      "cell_type": "code",
      "metadata": {
        "id": "uYRg2tl8dyxf",
        "colab_type": "code",
        "colab": {}
      },
      "source": [
        "from tensorflow.keras.callbacks import EarlyStopping,ReduceLROnPlateau\n",
        "\n",
        "\n",
        "early=EarlyStopping(monitor='accuracy',patience=3,mode='auto')\n",
        "reduce_lr = ReduceLROnPlateau(monitor='accuracy', factor=0.5, patience=2, verbose=1,cooldown=0, mode='auto',min_delta=0.0001, min_lr=0)\n",
        "batch_size=90"
      ],
      "execution_count": 0,
      "outputs": []
    },
    {
      "cell_type": "code",
      "metadata": {
        "id": "pGL9McADsh4s",
        "colab_type": "code",
        "colab": {}
      },
      "source": [
        "class_weight={4:1,0:57.3,1:13.04,2:6,3:58.3,5:6,6:47}"
      ],
      "execution_count": 0,
      "outputs": []
    },
    {
      "cell_type": "code",
      "metadata": {
        "id": "OWUBo-j3wc8f",
        "colab_type": "code",
        "outputId": "bb2e7f7b-08c7-4204-fb4a-df561d6b9226",
        "colab": {
          "base_uri": "https://localhost:8080/",
          "height": 1000
        }
      },
      "source": [
        "fmodel.fit(datagen.flow(trainx, testx,batch_size=90),epochs=50,validation_data=datagen.flow(trainy, testy,batch_size=16),callbacks=[reduce_lr,early])"
      ],
      "execution_count": 31,
      "outputs": [
        {
          "output_type": "stream",
          "text": [
            "Epoch 1/50\n",
            "88/88 [==============================] - 11s 126ms/step - loss: 1.3806 - accuracy: 0.6004 - recall: 0.5009 - val_loss: 0.8682 - val_accuracy: 0.7297 - val_recall: 0.6665 - lr: 0.0010\n",
            "Epoch 2/50\n",
            "88/88 [==============================] - 10s 111ms/step - loss: 0.8724 - accuracy: 0.7283 - recall: 0.6574 - val_loss: 0.7833 - val_accuracy: 0.7231 - val_recall: 0.6544 - lr: 0.0010\n",
            "Epoch 3/50\n",
            "88/88 [==============================] - 10s 115ms/step - loss: 0.6767 - accuracy: 0.7663 - recall: 0.7140 - val_loss: 0.6886 - val_accuracy: 0.7575 - val_recall: 0.7069 - lr: 0.0010\n",
            "Epoch 4/50\n",
            "88/88 [==============================] - 10s 115ms/step - loss: 0.5278 - accuracy: 0.8181 - recall: 0.7743 - val_loss: 0.6760 - val_accuracy: 0.7630 - val_recall: 0.7084 - lr: 0.0010\n",
            "Epoch 5/50\n",
            "88/88 [==============================] - 10s 111ms/step - loss: 0.4170 - accuracy: 0.8552 - recall: 0.8236 - val_loss: 0.8479 - val_accuracy: 0.7443 - val_recall: 0.7322 - lr: 0.0010\n",
            "Epoch 6/50\n",
            "88/88 [==============================] - 10s 112ms/step - loss: 0.3641 - accuracy: 0.8708 - recall: 0.8469 - val_loss: 0.7719 - val_accuracy: 0.7630 - val_recall: 0.7332 - lr: 0.0010\n",
            "Epoch 7/50\n",
            "88/88 [==============================] - 10s 113ms/step - loss: 0.3187 - accuracy: 0.8905 - recall: 0.8691 - val_loss: 0.9809 - val_accuracy: 0.7463 - val_recall: 0.7297 - lr: 0.0010\n",
            "Epoch 8/50\n",
            "88/88 [==============================] - 10s 112ms/step - loss: 0.3016 - accuracy: 0.8926 - recall: 0.8757 - val_loss: 0.8524 - val_accuracy: 0.7660 - val_recall: 0.7473 - lr: 0.0010\n",
            "Epoch 9/50\n",
            "88/88 [==============================] - 10s 111ms/step - loss: 0.2671 - accuracy: 0.9030 - recall: 0.8876 - val_loss: 0.7727 - val_accuracy: 0.7595 - val_recall: 0.7433 - lr: 0.0010\n",
            "Epoch 10/50\n",
            "88/88 [==============================] - 10s 113ms/step - loss: 0.2600 - accuracy: 0.9104 - recall: 0.8981 - val_loss: 0.8334 - val_accuracy: 0.7569 - val_recall: 0.7468 - lr: 0.0010\n",
            "Epoch 11/50\n",
            "88/88 [==============================] - 10s 114ms/step - loss: 0.2314 - accuracy: 0.9180 - recall: 0.9088 - val_loss: 0.7919 - val_accuracy: 0.7782 - val_recall: 0.7635 - lr: 0.0010\n",
            "Epoch 12/50\n",
            "88/88 [==============================] - 10s 113ms/step - loss: 0.1754 - accuracy: 0.9376 - recall: 0.9303 - val_loss: 0.9738 - val_accuracy: 0.7645 - val_recall: 0.7524 - lr: 0.0010\n",
            "Epoch 13/50\n",
            "88/88 [==============================] - 10s 113ms/step - loss: 0.1712 - accuracy: 0.9395 - recall: 0.9332 - val_loss: 0.8049 - val_accuracy: 0.7716 - val_recall: 0.7544 - lr: 0.0010\n",
            "Epoch 14/50\n",
            "88/88 [==============================] - 10s 113ms/step - loss: 0.1766 - accuracy: 0.9361 - recall: 0.9285 - val_loss: 0.9686 - val_accuracy: 0.7746 - val_recall: 0.7585 - lr: 0.0010\n",
            "Epoch 15/50\n",
            "88/88 [==============================] - 10s 113ms/step - loss: 0.1603 - accuracy: 0.9428 - recall: 0.9353 - val_loss: 0.9313 - val_accuracy: 0.7615 - val_recall: 0.7494 - lr: 0.0010\n",
            "Epoch 16/50\n",
            "88/88 [==============================] - 10s 113ms/step - loss: 0.1500 - accuracy: 0.9485 - recall: 0.9433 - val_loss: 1.0652 - val_accuracy: 0.7625 - val_recall: 0.7519 - lr: 0.0010\n",
            "Epoch 17/50\n",
            "88/88 [==============================] - 10s 113ms/step - loss: 0.1365 - accuracy: 0.9538 - recall: 0.9490 - val_loss: 1.0695 - val_accuracy: 0.7772 - val_recall: 0.7676 - lr: 0.0010\n",
            "Epoch 18/50\n",
            "88/88 [==============================] - 10s 112ms/step - loss: 0.1050 - accuracy: 0.9642 - recall: 0.9607 - val_loss: 0.9037 - val_accuracy: 0.7711 - val_recall: 0.7610 - lr: 0.0010\n",
            "Epoch 19/50\n",
            "88/88 [==============================] - 10s 113ms/step - loss: 0.1083 - accuracy: 0.9621 - recall: 0.9582 - val_loss: 0.9458 - val_accuracy: 0.7640 - val_recall: 0.7564 - lr: 0.0010\n",
            "Epoch 20/50\n",
            "88/88 [==============================] - ETA: 0s - loss: 0.1154 - accuracy: 0.9608 - recall: 0.9570\n",
            "Epoch 00020: ReduceLROnPlateau reducing learning rate to 0.0005000000237487257.\n",
            "88/88 [==============================] - 10s 113ms/step - loss: 0.1154 - accuracy: 0.9608 - recall: 0.9570 - val_loss: 0.9847 - val_accuracy: 0.7681 - val_recall: 0.7600 - lr: 0.0010\n",
            "Epoch 21/50\n",
            "88/88 [==============================] - 10s 117ms/step - loss: 0.0803 - accuracy: 0.9704 - recall: 0.9678 - val_loss: 1.0495 - val_accuracy: 0.7782 - val_recall: 0.7671 - lr: 5.0000e-04\n",
            "Epoch 22/50\n",
            "88/88 [==============================] - 10s 109ms/step - loss: 0.0637 - accuracy: 0.9793 - recall: 0.9769 - val_loss: 1.0900 - val_accuracy: 0.7751 - val_recall: 0.7691 - lr: 5.0000e-04\n",
            "Epoch 23/50\n",
            "88/88 [==============================] - 10s 119ms/step - loss: 0.0507 - accuracy: 0.9831 - recall: 0.9804 - val_loss: 1.0596 - val_accuracy: 0.7888 - val_recall: 0.7827 - lr: 5.0000e-04\n",
            "Epoch 24/50\n",
            "88/88 [==============================] - 10s 117ms/step - loss: 0.0442 - accuracy: 0.9853 - recall: 0.9841 - val_loss: 1.1350 - val_accuracy: 0.7812 - val_recall: 0.7767 - lr: 5.0000e-04\n",
            "Epoch 25/50\n",
            "88/88 [==============================] - 10s 115ms/step - loss: 0.0401 - accuracy: 0.9860 - recall: 0.9846 - val_loss: 1.0850 - val_accuracy: 0.7873 - val_recall: 0.7802 - lr: 5.0000e-04\n",
            "Epoch 26/50\n",
            "88/88 [==============================] - 10s 112ms/step - loss: 0.0395 - accuracy: 0.9866 - recall: 0.9862 - val_loss: 0.9698 - val_accuracy: 0.7852 - val_recall: 0.7751 - lr: 5.0000e-04\n",
            "Epoch 27/50\n",
            "88/88 [==============================] - 10s 112ms/step - loss: 0.0336 - accuracy: 0.9886 - recall: 0.9883 - val_loss: 1.1639 - val_accuracy: 0.7868 - val_recall: 0.7807 - lr: 5.0000e-04\n",
            "Epoch 28/50\n",
            "88/88 [==============================] - 10s 112ms/step - loss: 0.0353 - accuracy: 0.9881 - recall: 0.9876 - val_loss: 1.1708 - val_accuracy: 0.7802 - val_recall: 0.7767 - lr: 5.0000e-04\n",
            "Epoch 29/50\n",
            "88/88 [==============================] - 10s 113ms/step - loss: 0.0299 - accuracy: 0.9904 - recall: 0.9899 - val_loss: 1.1404 - val_accuracy: 0.7802 - val_recall: 0.7736 - lr: 5.0000e-04\n",
            "Epoch 30/50\n",
            "88/88 [==============================] - 10s 115ms/step - loss: 0.0431 - accuracy: 0.9856 - recall: 0.9842 - val_loss: 1.0761 - val_accuracy: 0.7767 - val_recall: 0.7696 - lr: 5.0000e-04\n",
            "Epoch 31/50\n",
            "88/88 [==============================] - ETA: 0s - loss: 0.0313 - accuracy: 0.9886 - recall: 0.9883\n",
            "Epoch 00031: ReduceLROnPlateau reducing learning rate to 0.0002500000118743628.\n",
            "88/88 [==============================] - 10s 118ms/step - loss: 0.0313 - accuracy: 0.9886 - recall: 0.9883 - val_loss: 1.1243 - val_accuracy: 0.7893 - val_recall: 0.7858 - lr: 5.0000e-04\n",
            "Epoch 32/50\n",
            "88/88 [==============================] - 10s 117ms/step - loss: 0.0289 - accuracy: 0.9917 - recall: 0.9910 - val_loss: 1.1586 - val_accuracy: 0.7883 - val_recall: 0.7847 - lr: 2.5000e-04\n",
            "Epoch 33/50\n",
            "88/88 [==============================] - 10s 116ms/step - loss: 0.0220 - accuracy: 0.9927 - recall: 0.9925 - val_loss: 1.2169 - val_accuracy: 0.7797 - val_recall: 0.7761 - lr: 2.5000e-04\n",
            "Epoch 34/50\n",
            "88/88 [==============================] - 10s 117ms/step - loss: 0.0180 - accuracy: 0.9941 - recall: 0.9932 - val_loss: 1.1810 - val_accuracy: 0.7832 - val_recall: 0.7782 - lr: 2.5000e-04\n",
            "Epoch 35/50\n",
            "88/88 [==============================] - 10s 116ms/step - loss: 0.0184 - accuracy: 0.9942 - recall: 0.9936 - val_loss: 1.1819 - val_accuracy: 0.7913 - val_recall: 0.7873 - lr: 2.5000e-04\n",
            "Epoch 36/50\n",
            "88/88 [==============================] - 10s 115ms/step - loss: 0.0169 - accuracy: 0.9943 - recall: 0.9941 - val_loss: 1.2441 - val_accuracy: 0.7802 - val_recall: 0.7777 - lr: 2.5000e-04\n",
            "Epoch 37/50\n",
            "88/88 [==============================] - 10s 115ms/step - loss: 0.0154 - accuracy: 0.9946 - recall: 0.9944 - val_loss: 1.2270 - val_accuracy: 0.7923 - val_recall: 0.7878 - lr: 2.5000e-04\n",
            "Epoch 38/50\n",
            "88/88 [==============================] - 10s 115ms/step - loss: 0.0129 - accuracy: 0.9962 - recall: 0.9958 - val_loss: 1.2230 - val_accuracy: 0.7822 - val_recall: 0.7787 - lr: 2.5000e-04\n",
            "Epoch 39/50\n",
            "88/88 [==============================] - 10s 117ms/step - loss: 0.0138 - accuracy: 0.9953 - recall: 0.9951 - val_loss: 1.1623 - val_accuracy: 0.7883 - val_recall: 0.7852 - lr: 2.5000e-04\n",
            "Epoch 40/50\n",
            "88/88 [==============================] - 10s 114ms/step - loss: 0.0111 - accuracy: 0.9967 - recall: 0.9963 - val_loss: 1.2299 - val_accuracy: 0.7933 - val_recall: 0.7878 - lr: 2.5000e-04\n",
            "Epoch 41/50\n",
            "88/88 [==============================] - 10s 115ms/step - loss: 0.0136 - accuracy: 0.9952 - recall: 0.9948 - val_loss: 1.2411 - val_accuracy: 0.7913 - val_recall: 0.7878 - lr: 2.5000e-04\n",
            "Epoch 42/50\n",
            "88/88 [==============================] - ETA: 0s - loss: 0.0112 - accuracy: 0.9962 - recall: 0.9960\n",
            "Epoch 00042: ReduceLROnPlateau reducing learning rate to 0.0001250000059371814.\n",
            "88/88 [==============================] - 10s 114ms/step - loss: 0.0112 - accuracy: 0.9962 - recall: 0.9960 - val_loss: 1.3069 - val_accuracy: 0.7933 - val_recall: 0.7903 - lr: 2.5000e-04\n",
            "Epoch 43/50\n",
            "88/88 [==============================] - 10s 115ms/step - loss: 0.0109 - accuracy: 0.9967 - recall: 0.9967 - val_loss: 1.3151 - val_accuracy: 0.7918 - val_recall: 0.7903 - lr: 1.2500e-04\n"
          ],
          "name": "stdout"
        },
        {
          "output_type": "execute_result",
          "data": {
            "text/plain": [
              "<tensorflow.python.keras.callbacks.History at 0x7f3f5b348278>"
            ]
          },
          "metadata": {
            "tags": []
          },
          "execution_count": 31
        }
      ]
    },
    {
      "cell_type": "code",
      "metadata": {
        "id": "PhYcfDh8CGvg",
        "colab_type": "code",
        "colab": {
          "base_uri": "https://localhost:8080/",
          "height": 284
        },
        "outputId": "fc4090cd-cf79-4ca8-e89c-f1100695e1c2"
      },
      "source": [
        "loss=pd.DataFrame(fmodel.history.history)\n",
        "loss=loss[['accuracy','val_accuracy']]\n",
        "loss.plot()"
      ],
      "execution_count": 32,
      "outputs": [
        {
          "output_type": "execute_result",
          "data": {
            "text/plain": [
              "<matplotlib.axes._subplots.AxesSubplot at 0x7f3f383cc358>"
            ]
          },
          "metadata": {
            "tags": []
          },
          "execution_count": 32
        },
        {
          "output_type": "display_data",
          "data": {
            "image/png": "[encoded data removed]",
            "text/plain": [
              "<Figure size 432x288 with 1 Axes>"
            ]
          },
          "metadata": {
            "tags": [],
            "needs_background": "light"
          }
        }
      ]
    },
    {
      "cell_type": "code",
      "metadata": {
        "id": "1STWqllGVaZc",
        "colab_type": "code",
        "colab": {}
      },
      "source": [
        "# model.save('drive/My Drive/model/model final(180x135).h5')"
      ],
      "execution_count": 0,
      "outputs": []
    }
  ]
}
