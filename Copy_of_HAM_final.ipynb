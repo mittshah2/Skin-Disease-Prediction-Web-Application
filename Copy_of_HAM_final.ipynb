{
  "nbformat": 4,
  "nbformat_minor": 0,
  "metadata": {
    "colab": {
      "name": "Copy of HAM final.ipynb",
      "provenance": [],
      "collapsed_sections": [],
      "machine_shape": "hm",
      "mount_file_id": "1MFjgnfyeAuPiA8b3YrotzmsTOGckgXEc",
      "authorship_tag": "ABX9TyMGtLtMnA/s8kVmm928SoEK",
      "include_colab_link": true
    },
    "kernelspec": {
      "name": "python3",
      "display_name": "Python 3"
    },
    "accelerator": "GPU"
  },
  "cells": [
    {
      "cell_type": "markdown",
      "metadata": {
        "id": "view-in-github",
        "colab_type": "text"
      },
      "source": [
        "<a href=\"https://colab.research.google.com/github/mittshah2/Skin-Disease-Prediction-Web-Application/blob/dev/Copy_of_HAM_final.ipynb\" target=\"_parent\"><img src=\"https://colab.research.google.com/assets/colab-badge.svg\" alt=\"Open In Colab\"/></a>"
      ]
    },
    {
      "cell_type": "code",
      "metadata": {
        "id": "FXdkx-ZtOIUL",
        "colab_type": "code",
        "colab": {}
      },
      "source": [
        "import os\n",
        "import pandas as pd\n",
        "import numpy as np\n",
        "import matplotlib.pyplot as p\n",
        "import PIL as pil\n",
        "from tensorflow.keras.preprocessing.image import ImageDataGenerator\n",
        "from tensorflow.keras.utils import to_categorical,normalize\n",
        "import cv2\n",
        "from cv2 import cvtColor\n",
        "from tqdm import tqdm\n",
        "from tensorflow.keras.applications.vgg19 import VGG19,preprocess_input"
      ],
      "execution_count": 0,
      "outputs": []
    },
    {
      "cell_type": "code",
      "metadata": {
        "id": "-1sJpAHfOgMI",
        "colab_type": "code",
        "colab": {}
      },
      "source": [
        "# !unzip -uq 'drive/My Drive/Actinic keratoses.zip' -d '/'\n",
        "# !unzip -uq 'drive/My Drive/Basal cell carcinoma.zip' -d '/'\n",
        "# !unzip -uq 'drive/My Drive/Benign keratosis-like lesions.zip' -d '/'\n",
        "# !unzip -uq 'drive/My Drive/Melanocytic nevi.zip' -d '/'\n",
        "# !unzip -uq 'drive/My Drive/Dermatofibroma.zip' -d '/'\n",
        "# !unzip -uq 'drive/My Drive/Melanoma.zip' -d '/'\n",
        "# !unzip -uq 'drive/My Drive/Vascular lesions.zip' -d '/'"
      ],
      "execution_count": 0,
      "outputs": []
    },
    {
      "cell_type": "code",
      "metadata": {
        "id": "EmbAmYamO0NF",
        "colab_type": "code",
        "colab": {}
      },
      "source": [
        "datagen=ImageDataGenerator(samplewise_center=True,samplewise_std_normalization=True,preprocessing_function=preprocess_input)"
      ],
      "execution_count": 0,
      "outputs": []
    },
    {
      "cell_type": "code",
      "metadata": {
        "id": "EbdsQlhMO4NT",
        "colab_type": "code",
        "colab": {}
      },
      "source": [
        "input_shape=(224,224,3)"
      ],
      "execution_count": 0,
      "outputs": []
    },
    {
      "cell_type": "code",
      "metadata": {
        "id": "jjnphAwYO6p-",
        "colab_type": "code",
        "colab": {}
      },
      "source": [
        "# data=[]\n",
        "# for i in tqdm(os.listdir('/Actinic keratoses')):\n",
        "#   path='/Actinic keratoses/'+str(i)\n",
        "#   img=cv2.imread(path)  \n",
        "#   img=cv2.cvtColor(img,cv2.COLOR_BGR2GRAY)\n",
        "#   img=cv2.resize(img,input_shape[:2])\n",
        "#   data.append(img)\n",
        "# x=np.asarray(data)"
      ],
      "execution_count": 0,
      "outputs": []
    },
    {
      "cell_type": "code",
      "metadata": {
        "id": "kyoOPh0NPRSl",
        "colab_type": "code",
        "colab": {}
      },
      "source": [
        "# data=[]\n",
        "# for i in tqdm(os.listdir('/Basal cell carcinoma')):\n",
        "#   path='/Basal cell carcinoma/'+str(i)\n",
        "#   img=cv2.imread(path)\n",
        "#   img=cv2.cvtColor(img,cv2.COLOR_BGR2GRAY)\n",
        "#   img=cv2.resize(img,input_shape[:2])\n",
        "#   data.append(img)\n",
        "# x=np.append(x,data,axis=0)"
      ],
      "execution_count": 0,
      "outputs": []
    },
    {
      "cell_type": "code",
      "metadata": {
        "id": "K__p4EDdFLax",
        "colab_type": "code",
        "colab": {}
      },
      "source": [
        "# x.shape"
      ],
      "execution_count": 0,
      "outputs": []
    },
    {
      "cell_type": "code",
      "metadata": {
        "id": "MQlFPL9yQgHu",
        "colab_type": "code",
        "colab": {}
      },
      "source": [
        "# data=[]\n",
        "# for i in tqdm(os.listdir('/Benign keratosis-like lesions')):\n",
        "#   path='/Benign keratosis-like lesions/'+str(i)\n",
        "#   img=cv2.imread(path)\n",
        "#   img=cv2.cvtColor(img,cv2.COLOR_BGR2GRAY)\n",
        "#   img=cv2.resize(img,input_shape[:2])\n",
        "#   data.append(img)\n",
        "# x=np.append(x,data,axis=0)"
      ],
      "execution_count": 0,
      "outputs": []
    },
    {
      "cell_type": "code",
      "metadata": {
        "id": "3R0ivPSTQjAy",
        "colab_type": "code",
        "colab": {}
      },
      "source": [
        "# data=[]\n",
        "# for i in tqdm(os.listdir('/Dermatofibroma')):\n",
        "#   path='/Dermatofibroma/'+str(i)\n",
        "#   img=cv2.imread(path)\n",
        "#   img=cv2.cvtColor(img,cv2.COLOR_BGR2GRAY)\n",
        "#   img=cv2.resize(img,input_shape[:2])\n",
        "#   data.append(img)\n",
        "# x=np.append(x,data,axis=0)"
      ],
      "execution_count": 0,
      "outputs": []
    },
    {
      "cell_type": "code",
      "metadata": {
        "id": "Nft7m58uQjmf",
        "colab_type": "code",
        "colab": {}
      },
      "source": [
        "# data=[]\n",
        "# for i in tqdm(os.listdir('/Melanocytic nevi')):\n",
        "#   path='/Melanocytic nevi/'+str(i)\n",
        "#   img=cv2.imread(path)\n",
        "#   img=cv2.cvtColor(img,cv2.COLOR_BGR2GRAY)\n",
        "#   img=cv2.resize(img,input_shape[:2])\n",
        "#   data.append(img)\n",
        "# x=np.append(x,data,axis=0)"
      ],
      "execution_count": 0,
      "outputs": []
    },
    {
      "cell_type": "code",
      "metadata": {
        "id": "HDnx7Dsq2lBr",
        "colab_type": "code",
        "colab": {}
      },
      "source": [
        "# len(data)"
      ],
      "execution_count": 0,
      "outputs": []
    },
    {
      "cell_type": "code",
      "metadata": {
        "id": "d63stFJ9Qjpm",
        "colab_type": "code",
        "colab": {}
      },
      "source": [
        "# data=[]\n",
        "# for i in tqdm(os.listdir('/Melanoma')):\n",
        "#   path='/Melanoma/'+str(i)\n",
        "#   img=cv2.imread(path)\n",
        "#   img=cv2.cvtColor(img,cv2.COLOR_BGR2GRAY)\n",
        "#   img=cv2.resize(img,input_shape[:2])\n",
        "#   data.append(img)\n",
        "# x=np.append(x,data,axis=0)"
      ],
      "execution_count": 0,
      "outputs": []
    },
    {
      "cell_type": "code",
      "metadata": {
        "id": "WCr72Ld8Qjtw",
        "colab_type": "code",
        "colab": {}
      },
      "source": [
        "# data=[]\n",
        "# for i in tqdm(os.listdir('/Vascular lesions')):\n",
        "#   path='/Vascular lesions/'+str(i)\n",
        "#   img=cv2.imread(path)\n",
        "#   img=cv2.cvtColor(img,cv2.COLOR_BGR2GRAY)\n",
        "#   img=cv2.resize(img,input_shape[:2])\n",
        "#   data.append(img)\n",
        "# x=np.append(x,data,axis=0)"
      ],
      "execution_count": 0,
      "outputs": []
    },
    {
      "cell_type": "code",
      "metadata": {
        "id": "F7jDvEOuQoQd",
        "colab_type": "code",
        "colab": {}
      },
      "source": [
        "# x.shape"
      ],
      "execution_count": 0,
      "outputs": []
    },
    {
      "cell_type": "code",
      "metadata": {
        "id": "M-Yg7ZmjQqdd",
        "colab_type": "code",
        "colab": {}
      },
      "source": [
        "# np.save('drive/My Drive/data of ham gray.npy',x)"
      ],
      "execution_count": 0,
      "outputs": []
    },
    {
      "cell_type": "code",
      "metadata": {
        "id": "pUhiOMRXW3Nu",
        "colab_type": "code",
        "colab": {}
      },
      "source": [
        "x=np.load('drive/My Drive/HAM/data of ham(224x224).npy')"
      ],
      "execution_count": 0,
      "outputs": []
    },
    {
      "cell_type": "code",
      "metadata": {
        "id": "1nGg529ZtMjh",
        "colab_type": "code",
        "outputId": "49a0d7f3-b611-41e7-e722-8ac784edfa6a",
        "colab": {
          "base_uri": "https://localhost:8080/",
          "height": 36
        }
      },
      "source": [
        "x.shape"
      ],
      "execution_count": 17,
      "outputs": [
        {
          "output_type": "execute_result",
          "data": {
            "text/plain": [
              "(9895, 224, 224, 3)"
            ]
          },
          "metadata": {
            "tags": []
          },
          "execution_count": 17
        }
      ]
    },
    {
      "cell_type": "code",
      "metadata": {
        "id": "ddqdHcbWQsdG",
        "colab_type": "code",
        "outputId": "b20cdaa4-27cc-4c35-a6aa-ff00085543ef",
        "colab": {
          "base_uri": "https://localhost:8080/",
          "height": 36
        }
      },
      "source": [
        "y=[]\n",
        "for i in range(130):\n",
        "  y.append(0)\n",
        "for i in range(514):\n",
        "  y.append(1)\n",
        "for i in range(1176):\n",
        "  y.append(2)\n",
        "for i in range(115):\n",
        "  y.append(3)\n",
        "for i in range(6705):\n",
        "  y.append(4)\n",
        "for i in range(1113):\n",
        "  y.append(5)\n",
        "for i in range(142):\n",
        "  y.append(6)\n",
        "len(y)"
      ],
      "execution_count": 18,
      "outputs": [
        {
          "output_type": "execute_result",
          "data": {
            "text/plain": [
              "9895"
            ]
          },
          "metadata": {
            "tags": []
          },
          "execution_count": 18
        }
      ]
    },
    {
      "cell_type": "code",
      "metadata": {
        "id": "Tb9CPe_lQuOo",
        "colab_type": "code",
        "outputId": "bb6fea3e-c2ce-429a-b3c7-2bbd1e5ea635",
        "colab": {
          "base_uri": "https://localhost:8080/",
          "height": 36
        }
      },
      "source": [
        "y=np.asarray(y)\n",
        "y.shape"
      ],
      "execution_count": 19,
      "outputs": [
        {
          "output_type": "execute_result",
          "data": {
            "text/plain": [
              "(9895,)"
            ]
          },
          "metadata": {
            "tags": []
          },
          "execution_count": 19
        }
      ]
    },
    {
      "cell_type": "code",
      "metadata": {
        "id": "2EaGKIf6QwMG",
        "colab_type": "code",
        "outputId": "02679d5a-4055-4a63-cf78-07f50faa4940",
        "colab": {
          "base_uri": "https://localhost:8080/",
          "height": 36
        }
      },
      "source": [
        "y=to_categorical(y)\n",
        "y.shape"
      ],
      "execution_count": 20,
      "outputs": [
        {
          "output_type": "execute_result",
          "data": {
            "text/plain": [
              "(9895, 7)"
            ]
          },
          "metadata": {
            "tags": []
          },
          "execution_count": 20
        }
      ]
    },
    {
      "cell_type": "code",
      "metadata": {
        "id": "9OYd7gQXbtk9",
        "colab_type": "code",
        "colab": {}
      },
      "source": [
        "from sklearn.model_selection import train_test_split\n",
        "\n",
        "trainx,trainy,testx,testy = train_test_split(x,y,test_size=0.2,random_state=42)"
      ],
      "execution_count": 0,
      "outputs": []
    },
    {
      "cell_type": "code",
      "metadata": {
        "id": "Iqg6bpORcFwU",
        "colab_type": "code",
        "colab": {}
      },
      "source": [
        "datagen.fit(trainx,augment=True,seed=42)"
      ],
      "execution_count": 0,
      "outputs": []
    },
    {
      "cell_type": "code",
      "metadata": {
        "id": "Y-vvoj1jkOqg",
        "colab_type": "code",
        "colab": {}
      },
      "source": [
        "# from tensorflow.keras.layers import InputLayer,Flatten,Dense,Dropout,BatchNormalization,Conv2D,MaxPooling2D,GaussianNoise,ActivityRegularization\n",
        "# from tensorflow.keras.models import Sequential\n",
        "# from tensorflow.keras.metrics import Recall\n",
        "# from tensorflow.keras.optimizers import RMSprop\n",
        "\n",
        "# l2=1000\n",
        "\n",
        "\n",
        "# model=Sequential()\n",
        "\n",
        "# model.add(InputLayer(input_shape))\n",
        "# model.add(GaussianNoise(0.1))\n",
        "# model.add(Conv2D(64,(2,2),activation='relu'))\n",
        "# model.add(MaxPooling2D(pool_size=(2, 2)))\n",
        "# model.add(ActivityRegularization(l2=l2))\n",
        "# # model.add(BatchNormalization())\n",
        "\n",
        "# model.add(Conv2D(256,(2,2),activation='relu'))\n",
        "# model.add(MaxPooling2D(pool_size=(2, 2)))\n",
        "# model.add(ActivityRegularization(l2=l2))\n",
        "# # model.add(BatchNormalization())\n",
        "\n",
        "# model.add(Conv2D(512,(2,2),activation='relu'))\n",
        "# model.add(MaxPooling2D(pool_size=(2, 2)))\n",
        "# model.add(ActivityRegularization(l2=l2))\n",
        "# # model.add(BatchNormalization())\n",
        "\n",
        "# model.add(Conv2D(512,(2,2),activation='relu'))\n",
        "# model.add(MaxPooling2D(pool_size=(2, 2)))\n",
        "# model.add(ActivityRegularization(l2=l2))\n",
        "# # model.add(BatchNormalization())\n",
        "\n",
        "\n",
        "# model.add(Conv2D(512,(2,2),activation='relu'))\n",
        "# model.add(MaxPooling2D(pool_size=(2, 2)))\n",
        "# model.add(ActivityRegularization(l2=l2))\n",
        "# # model.add(BatchNormalization())\n",
        "\n",
        "# model.add(Conv2D(1024,(2,2),activation='relu'))\n",
        "# model.add(MaxPooling2D(pool_size=(2, 2)))\n",
        "# model.add(ActivityRegularization(l2=l2))\n",
        "\n",
        "# model.add(Conv2D(1024,(1,1),activation='relu'))\n",
        "# model.add(MaxPooling2D(pool_size=(1, 1)))\n",
        "# model.add(ActivityRegularization(l2=l2))\n",
        "\n",
        "# model.add(Conv2D(1024,(1,1),activation='relu'))\n",
        "# model.add(MaxPooling2D(pool_size=(1, 1)))\n",
        "# model.add(ActivityRegularization(l2=l2))\n",
        "\n",
        "\n",
        "# model.add(Flatten())\n",
        "\n",
        "# model.add(Dense(512,activation='relu'))\n",
        "\n",
        "# model.add(ActivityRegularization(l2=l2))\n",
        "\n",
        "# model.add(Dense(512,activation='relu'))\n",
        "\n",
        "# model.add(ActivityRegularization(l2=l2))\n",
        "\n",
        "# model.add(Dense(1024,activation='relu'))\n",
        "\n",
        "# model.add(ActivityRegularization(l2=l2))\n",
        "\n",
        "# model.add(Dense(7,activation='softmax'))\n",
        "\n",
        "# model.compile(optimizer='adam',loss='categorical_crossentropy',metrics=['accuracy',Recall()])\n",
        "# # model.summary()"
      ],
      "execution_count": 0,
      "outputs": []
    },
    {
      "cell_type": "code",
      "metadata": {
        "id": "bvCN-iaG_mTR",
        "colab_type": "code",
        "colab": {
          "base_uri": "https://localhost:8080/",
          "height": 74
        },
        "outputId": "93252dbe-5382-4008-a0f8-5544b36dedb2"
      },
      "source": [
        "pre_trained_model = VGG19(input_shape = input_shape, \n",
        "                                include_top = False, \n",
        "                                weights = 'imagenet')"
      ],
      "execution_count": 24,
      "outputs": [
        {
          "output_type": "stream",
          "text": [
            "Downloading data from https://storage.googleapis.com/tensorflow/keras-applications/vgg19/vgg19_weights_tf_dim_ordering_tf_kernels_notop.h5\n",
            "80142336/80134624 [==============================] - 1s 0us/step\n"
          ],
          "name": "stdout"
        }
      ]
    },
    {
      "cell_type": "code",
      "metadata": {
        "id": "vYkqDpzB_oDx",
        "colab_type": "code",
        "colab": {}
      },
      "source": [
        "for layer in pre_trained_model.layers:\n",
        "  layer.trainable = False"
      ],
      "execution_count": 0,
      "outputs": []
    },
    {
      "cell_type": "code",
      "metadata": {
        "id": "2lh2bIDE_p8p",
        "colab_type": "code",
        "colab": {}
      },
      "source": [
        "# pre_trained_model.summary()"
      ],
      "execution_count": 0,
      "outputs": []
    },
    {
      "cell_type": "code",
      "metadata": {
        "id": "SMfjF0yl_sR5",
        "colab_type": "code",
        "outputId": "95c0950e-8955-4e85-eb64-12f6e72ae754",
        "colab": {
          "base_uri": "https://localhost:8080/",
          "height": 36
        }
      },
      "source": [
        "last_layer = pre_trained_model.get_layer('block5_pool')\n",
        "print('last layer output shape: ', last_layer.output_shape)\n",
        "last_output = last_layer.output"
      ],
      "execution_count": 27,
      "outputs": [
        {
          "output_type": "stream",
          "text": [
            "last layer output shape:  (None, 7, 7, 512)\n"
          ],
          "name": "stdout"
        }
      ]
    },
    {
      "cell_type": "code",
      "metadata": {
        "id": "pU1VGuCu_ujw",
        "colab_type": "code",
        "colab": {}
      },
      "source": [
        "from tensorflow.keras.layers import Flatten,Dense,Dropout,BatchNormalization\n",
        "\n",
        "model = Flatten()(last_output)\n",
        "model = Dense(4096, activation='relu')(model)\n",
        "model = Dropout(0.4)(model)\n",
        "model = Dense(4096, activation='relu')(model)\n",
        "model = Dropout(0.4)(model)\n",
        "model = Dense(7, activation='softmax')(model) "
      ],
      "execution_count": 0,
      "outputs": []
    },
    {
      "cell_type": "code",
      "metadata": {
        "id": "azNyqGayALze",
        "colab_type": "code",
        "colab": {}
      },
      "source": [
        "from tensorflow.keras.models import Model\n",
        "from tensorflow.keras.metrics import Recall\n",
        "from tensorflow.keras.optimizers import RMSprop\n",
        "\n",
        "recall=Recall()\n",
        "fmodel = Model( pre_trained_model.input, model) \n",
        "\n",
        "fmodel.compile(optimizer = 'adam', \n",
        "              loss = 'categorical_crossentropy', \n",
        "              metrics = ['accuracy',recall])\n",
        "# model.summary()"
      ],
      "execution_count": 0,
      "outputs": []
    },
    {
      "cell_type": "code",
      "metadata": {
        "id": "6I8WXFgqc1tH",
        "colab_type": "code",
        "colab": {}
      },
      "source": [
        "# trainx=trainx/255"
      ],
      "execution_count": 0,
      "outputs": []
    },
    {
      "cell_type": "code",
      "metadata": {
        "id": "3cSsZNVcdHzh",
        "colab_type": "code",
        "colab": {}
      },
      "source": [
        "# trainy=trainy/255"
      ],
      "execution_count": 0,
      "outputs": []
    },
    {
      "cell_type": "code",
      "metadata": {
        "id": "uYRg2tl8dyxf",
        "colab_type": "code",
        "colab": {}
      },
      "source": [
        "from tensorflow.keras.callbacks import EarlyStopping,ReduceLROnPlateau\n",
        "\n",
        "\n",
        "early=EarlyStopping(monitor='accuracy',patience=3,mode='auto')\n",
        "reduce_lr = ReduceLROnPlateau(monitor='accuracy', factor=0.5, patience=2, verbose=1,cooldown=0, mode='auto',min_delta=0.0001, min_lr=0)\n",
        "batch_size=90"
      ],
      "execution_count": 0,
      "outputs": []
    },
    {
      "cell_type": "code",
      "metadata": {
        "id": "pGL9McADsh4s",
        "colab_type": "code",
        "colab": {}
      },
      "source": [
        "class_weight={4:1,0:57.3,1:13.04,2:6,3:58.3,5:6,6:47}"
      ],
      "execution_count": 0,
      "outputs": []
    },
    {
      "cell_type": "code",
      "metadata": {
        "id": "OWUBo-j3wc8f",
        "colab_type": "code",
        "outputId": "92d76b3f-5c58-434b-eb95-c2a270cbe92e",
        "colab": {
          "base_uri": "https://localhost:8080/",
          "height": 1000
        }
      },
      "source": [
        "fmodel.fit(datagen.flow(trainx, testx,batch_size=90),epochs=100,validation_data=datagen.flow(trainy, testy,batch_size=16),callbacks=[reduce_lr],class_weight=class_weight)"
      ],
      "execution_count": 0,
      "outputs": [
        {
          "output_type": "stream",
          "text": [
            "Epoch 1/100\n",
            "88/88 [==============================] - 33s 378ms/step - loss: 22.2846 - accuracy: 0.3062 - recall: 0.1475 - val_loss: 1.7763 - val_accuracy: 0.2789 - val_recall: 0.0657 - lr: 0.0010\n",
            "Epoch 2/100\n",
            "88/88 [==============================] - 31s 352ms/step - loss: 7.3929 - accuracy: 0.3737 - recall: 0.2169 - val_loss: 1.5105 - val_accuracy: 0.4452 - val_recall: 0.1708 - lr: 0.0010\n",
            "Epoch 3/100\n",
            "88/88 [==============================] - 31s 351ms/step - loss: 6.6420 - accuracy: 0.3911 - recall: 0.2492 - val_loss: 1.1059 - val_accuracy: 0.5836 - val_recall: 0.3785 - lr: 0.0010\n",
            "Epoch 4/100\n",
            "88/88 [==============================] - 31s 352ms/step - loss: 5.8033 - accuracy: 0.4639 - recall: 0.2916 - val_loss: 1.3377 - val_accuracy: 0.4937 - val_recall: 0.2835 - lr: 0.0010\n",
            "Epoch 5/100\n",
            "88/88 [==============================] - 31s 353ms/step - loss: 6.0623 - accuracy: 0.4399 - recall: 0.2983 - val_loss: 1.0960 - val_accuracy: 0.6402 - val_recall: 0.2931 - lr: 0.0010\n",
            "Epoch 6/100\n",
            "88/88 [==============================] - 31s 350ms/step - loss: 5.2872 - accuracy: 0.4741 - recall: 0.3266 - val_loss: 0.9533 - val_accuracy: 0.6139 - val_recall: 0.4740 - lr: 0.0010\n",
            "Epoch 7/100\n",
            "88/88 [==============================] - 31s 352ms/step - loss: 4.6827 - accuracy: 0.4804 - recall: 0.3354 - val_loss: 1.2718 - val_accuracy: 0.4755 - val_recall: 0.2208 - lr: 0.0010\n",
            "Epoch 8/100\n",
            "88/88 [==============================] - 31s 351ms/step - loss: 5.0025 - accuracy: 0.4807 - recall: 0.3393 - val_loss: 0.9595 - val_accuracy: 0.6109 - val_recall: 0.4856 - lr: 0.0010\n",
            "Epoch 9/100\n",
            "88/88 [==============================] - 31s 349ms/step - loss: 5.3326 - accuracy: 0.4603 - recall: 0.3234 - val_loss: 1.0939 - val_accuracy: 0.5654 - val_recall: 0.3578 - lr: 0.0010\n",
            "Epoch 10/100\n",
            "88/88 [==============================] - ETA: 0s - loss: 5.7343 - accuracy: 0.4631 - recall: 0.3205\n",
            "Epoch 00010: ReduceLROnPlateau reducing learning rate to 0.0005000000237487257.\n",
            "88/88 [==============================] - 31s 351ms/step - loss: 5.7343 - accuracy: 0.4631 - recall: 0.3205 - val_loss: 0.9807 - val_accuracy: 0.6377 - val_recall: 0.4437 - lr: 0.0010\n",
            "Epoch 11/100\n",
            "88/88 [==============================] - 31s 351ms/step - loss: 4.5548 - accuracy: 0.5349 - recall: 0.4103 - val_loss: 0.8561 - val_accuracy: 0.6564 - val_recall: 0.4977 - lr: 5.0000e-04\n",
            "Epoch 12/100\n",
            "88/88 [==============================] - 31s 350ms/step - loss: 3.8252 - accuracy: 0.5512 - recall: 0.4401 - val_loss: 0.9064 - val_accuracy: 0.6301 - val_recall: 0.4634 - lr: 5.0000e-04\n",
            "Epoch 13/100\n",
            "88/88 [==============================] - 31s 351ms/step - loss: 3.4888 - accuracy: 0.5472 - recall: 0.4429 - val_loss: 0.8782 - val_accuracy: 0.6488 - val_recall: 0.4704 - lr: 5.0000e-04\n",
            "Epoch 14/100\n",
            "88/88 [==============================] - 31s 350ms/step - loss: 3.4558 - accuracy: 0.5707 - recall: 0.4601 - val_loss: 0.9000 - val_accuracy: 0.6362 - val_recall: 0.5129 - lr: 5.0000e-04\n",
            "Epoch 15/100\n",
            "88/88 [==============================] - 31s 352ms/step - loss: 3.2822 - accuracy: 0.5888 - recall: 0.4804 - val_loss: 0.8708 - val_accuracy: 0.6508 - val_recall: 0.5235 - lr: 5.0000e-04\n",
            "Epoch 16/100\n",
            "88/88 [==============================] - 31s 356ms/step - loss: 3.3771 - accuracy: 0.5902 - recall: 0.4840 - val_loss: 0.8693 - val_accuracy: 0.6559 - val_recall: 0.5250 - lr: 5.0000e-04\n",
            "Epoch 17/100\n",
            "88/88 [==============================] - 31s 351ms/step - loss: 2.9451 - accuracy: 0.6138 - recall: 0.5191 - val_loss: 0.8001 - val_accuracy: 0.6796 - val_recall: 0.5437 - lr: 5.0000e-04\n",
            "Epoch 18/100\n",
            "88/88 [==============================] - 31s 349ms/step - loss: 2.9224 - accuracy: 0.6201 - recall: 0.5246 - val_loss: 0.7438 - val_accuracy: 0.7120 - val_recall: 0.6049 - lr: 5.0000e-04\n",
            "Epoch 19/100\n",
            "88/88 [==============================] - 31s 350ms/step - loss: 3.0770 - accuracy: 0.5845 - recall: 0.4871 - val_loss: 1.0511 - val_accuracy: 0.5766 - val_recall: 0.4194 - lr: 5.0000e-04\n",
            "Epoch 20/100\n",
            "88/88 [==============================] - ETA: 0s - loss: 2.9898 - accuracy: 0.5704 - recall: 0.4716\n",
            "Epoch 00020: ReduceLROnPlateau reducing learning rate to 0.0002500000118743628.\n",
            "88/88 [==============================] - 31s 351ms/step - loss: 2.9898 - accuracy: 0.5704 - recall: 0.4716 - val_loss: 0.8295 - val_accuracy: 0.6832 - val_recall: 0.5503 - lr: 5.0000e-04\n",
            "Epoch 21/100\n",
            "88/88 [==============================] - 31s 352ms/step - loss: 2.7374 - accuracy: 0.6387 - recall: 0.5495 - val_loss: 0.7882 - val_accuracy: 0.6938 - val_recall: 0.5750 - lr: 2.5000e-04\n",
            "Epoch 22/100\n",
            "88/88 [==============================] - 31s 352ms/step - loss: 2.6606 - accuracy: 0.6520 - recall: 0.5688 - val_loss: 0.7871 - val_accuracy: 0.7029 - val_recall: 0.6165 - lr: 2.5000e-04\n",
            "Epoch 23/100\n",
            "88/88 [==============================] - 31s 351ms/step - loss: 2.5600 - accuracy: 0.6650 - recall: 0.5819 - val_loss: 0.8238 - val_accuracy: 0.6817 - val_recall: 0.5801 - lr: 2.5000e-04\n",
            "Epoch 24/100\n",
            "88/88 [==============================] - 31s 350ms/step - loss: 2.4534 - accuracy: 0.6564 - recall: 0.5830 - val_loss: 0.8105 - val_accuracy: 0.6892 - val_recall: 0.5851 - lr: 2.5000e-04\n",
            "Epoch 25/100\n",
            "88/88 [==============================] - ETA: 0s - loss: 2.3338 - accuracy: 0.6642 - recall: 0.5945\n",
            "Epoch 00025: ReduceLROnPlateau reducing learning rate to 0.0001250000059371814.\n",
            "88/88 [==============================] - 31s 349ms/step - loss: 2.3338 - accuracy: 0.6642 - recall: 0.5945 - val_loss: 0.8242 - val_accuracy: 0.6847 - val_recall: 0.5745 - lr: 2.5000e-04\n",
            "Epoch 26/100\n",
            "88/88 [==============================] - 31s 349ms/step - loss: 2.2613 - accuracy: 0.6762 - recall: 0.5992 - val_loss: 0.8125 - val_accuracy: 0.7049 - val_recall: 0.6225 - lr: 1.2500e-04\n",
            "Epoch 27/100\n",
            "88/88 [==============================] - 31s 347ms/step - loss: 2.2439 - accuracy: 0.6963 - recall: 0.6275 - val_loss: 0.7759 - val_accuracy: 0.7231 - val_recall: 0.6433 - lr: 1.2500e-04\n",
            "Epoch 28/100\n",
            "88/88 [==============================] - 31s 349ms/step - loss: 2.2906 - accuracy: 0.6934 - recall: 0.6278 - val_loss: 0.7915 - val_accuracy: 0.7120 - val_recall: 0.6387 - lr: 1.2500e-04\n",
            "Epoch 29/100\n",
            "88/88 [==============================] - 31s 350ms/step - loss: 2.1770 - accuracy: 0.7091 - recall: 0.6412 - val_loss: 0.8011 - val_accuracy: 0.7054 - val_recall: 0.6230 - lr: 1.2500e-04\n",
            "Epoch 30/100\n",
            "88/88 [==============================] - 31s 350ms/step - loss: 2.2470 - accuracy: 0.7057 - recall: 0.6416 - val_loss: 0.8263 - val_accuracy: 0.7029 - val_recall: 0.6352 - lr: 1.2500e-04\n",
            "Epoch 31/100\n",
            "88/88 [==============================] - ETA: 0s - loss: 2.1806 - accuracy: 0.7089 - recall: 0.6434\n",
            "Epoch 00031: ReduceLROnPlateau reducing learning rate to 6.25000029685907e-05.\n",
            "88/88 [==============================] - 31s 351ms/step - loss: 2.1806 - accuracy: 0.7089 - recall: 0.6434 - val_loss: 0.8147 - val_accuracy: 0.7069 - val_recall: 0.6453 - lr: 1.2500e-04\n",
            "Epoch 32/100\n",
            "88/88 [==============================] - 31s 353ms/step - loss: 2.0430 - accuracy: 0.7194 - recall: 0.6551 - val_loss: 0.8308 - val_accuracy: 0.7009 - val_recall: 0.6357 - lr: 6.2500e-05\n",
            "Epoch 33/100\n",
            "88/88 [==============================] - 31s 351ms/step - loss: 2.0030 - accuracy: 0.7189 - recall: 0.6555 - val_loss: 0.7985 - val_accuracy: 0.7115 - val_recall: 0.6458 - lr: 6.2500e-05\n",
            "Epoch 34/100\n",
            "88/88 [==============================] - 31s 349ms/step - loss: 2.0879 - accuracy: 0.7226 - recall: 0.6580 - val_loss: 0.7933 - val_accuracy: 0.7246 - val_recall: 0.6579 - lr: 6.2500e-05\n",
            "Epoch 35/100\n",
            "88/88 [==============================] - 31s 350ms/step - loss: 2.0565 - accuracy: 0.7233 - recall: 0.6642 - val_loss: 0.7880 - val_accuracy: 0.7241 - val_recall: 0.6559 - lr: 6.2500e-05\n",
            "Epoch 36/100\n",
            "88/88 [==============================] - 31s 353ms/step - loss: 1.9469 - accuracy: 0.7326 - recall: 0.6728 - val_loss: 0.8105 - val_accuracy: 0.7165 - val_recall: 0.6564 - lr: 6.2500e-05\n",
            "Epoch 37/100\n",
            "88/88 [==============================] - 31s 354ms/step - loss: 1.9802 - accuracy: 0.7283 - recall: 0.6688 - val_loss: 0.8103 - val_accuracy: 0.7165 - val_recall: 0.6584 - lr: 6.2500e-05\n",
            "Epoch 38/100\n",
            "88/88 [==============================] - 31s 354ms/step - loss: 1.9975 - accuracy: 0.7352 - recall: 0.6751 - val_loss: 0.8205 - val_accuracy: 0.7105 - val_recall: 0.6478 - lr: 6.2500e-05\n",
            "Epoch 39/100\n",
            "88/88 [==============================] - 31s 352ms/step - loss: 1.9143 - accuracy: 0.7345 - recall: 0.6779 - val_loss: 0.8325 - val_accuracy: 0.7175 - val_recall: 0.6574 - lr: 6.2500e-05\n",
            "Epoch 40/100\n",
            "88/88 [==============================] - ETA: 0s - loss: 1.9154 - accuracy: 0.7304 - recall: 0.6738\n",
            "Epoch 00040: ReduceLROnPlateau reducing learning rate to 3.125000148429535e-05.\n",
            "88/88 [==============================] - 31s 351ms/step - loss: 1.9154 - accuracy: 0.7304 - recall: 0.6738 - val_loss: 0.8291 - val_accuracy: 0.7024 - val_recall: 0.6463 - lr: 6.2500e-05\n",
            "Epoch 41/100\n",
            "88/88 [==============================] - 31s 354ms/step - loss: 1.8819 - accuracy: 0.7427 - recall: 0.6841 - val_loss: 0.8294 - val_accuracy: 0.7145 - val_recall: 0.6544 - lr: 3.1250e-05\n",
            "Epoch 42/100\n",
            "88/88 [==============================] - 31s 349ms/step - loss: 1.9052 - accuracy: 0.7385 - recall: 0.6852 - val_loss: 0.8287 - val_accuracy: 0.7155 - val_recall: 0.6574 - lr: 3.1250e-05\n",
            "Epoch 43/100\n",
            "88/88 [==============================] - 31s 349ms/step - loss: 1.7562 - accuracy: 0.7497 - recall: 0.6948 - val_loss: 0.8455 - val_accuracy: 0.7059 - val_recall: 0.6498 - lr: 3.1250e-05\n",
            "Epoch 44/100\n",
            "88/88 [==============================] - 31s 352ms/step - loss: 1.9061 - accuracy: 0.7384 - recall: 0.6825 - val_loss: 0.8313 - val_accuracy: 0.7074 - val_recall: 0.6544 - lr: 3.1250e-05\n",
            "Epoch 45/100\n",
            "88/88 [==============================] - ETA: 0s - loss: 1.8128 - accuracy: 0.7471 - recall: 0.6930\n",
            "Epoch 00045: ReduceLROnPlateau reducing learning rate to 1.5625000742147677e-05.\n",
            "88/88 [==============================] - 31s 350ms/step - loss: 1.8128 - accuracy: 0.7471 - recall: 0.6930 - val_loss: 0.8282 - val_accuracy: 0.7155 - val_recall: 0.6574 - lr: 3.1250e-05\n",
            "Epoch 46/100\n",
            "88/88 [==============================] - 31s 350ms/step - loss: 1.7667 - accuracy: 0.7504 - recall: 0.6940 - val_loss: 0.8239 - val_accuracy: 0.7170 - val_recall: 0.6599 - lr: 1.5625e-05\n",
            "Epoch 47/100\n",
            "88/88 [==============================] - 31s 351ms/step - loss: 1.7470 - accuracy: 0.7490 - recall: 0.6938 - val_loss: 0.8304 - val_accuracy: 0.7130 - val_recall: 0.6539 - lr: 1.5625e-05\n",
            "Epoch 48/100\n",
            "88/88 [==============================] - ETA: 0s - loss: 1.8190 - accuracy: 0.7471 - recall: 0.6968\n",
            "Epoch 00048: ReduceLROnPlateau reducing learning rate to 7.812500371073838e-06.\n",
            "88/88 [==============================] - 31s 349ms/step - loss: 1.8190 - accuracy: 0.7471 - recall: 0.6968 - val_loss: 0.8320 - val_accuracy: 0.7125 - val_recall: 0.6559 - lr: 1.5625e-05\n",
            "Epoch 49/100\n",
            "88/88 [==============================] - 31s 349ms/step - loss: 1.8132 - accuracy: 0.7492 - recall: 0.6942 - val_loss: 0.8308 - val_accuracy: 0.7185 - val_recall: 0.6594 - lr: 7.8125e-06\n",
            "Epoch 50/100\n",
            "88/88 [==============================] - 31s 349ms/step - loss: 1.9111 - accuracy: 0.7516 - recall: 0.6956 - val_loss: 0.8313 - val_accuracy: 0.7196 - val_recall: 0.6620 - lr: 7.8125e-06\n",
            "Epoch 51/100\n",
            "88/88 [==============================] - 31s 350ms/step - loss: 1.8324 - accuracy: 0.7457 - recall: 0.6940 - val_loss: 0.8242 - val_accuracy: 0.7201 - val_recall: 0.6645 - lr: 7.8125e-06\n",
            "Epoch 52/100\n",
            "88/88 [==============================] - 31s 348ms/step - loss: 1.8248 - accuracy: 0.7527 - recall: 0.7031 - val_loss: 0.8314 - val_accuracy: 0.7196 - val_recall: 0.6625 - lr: 7.8125e-06\n",
            "Epoch 53/100\n",
            "88/88 [==============================] - 31s 351ms/step - loss: 1.8456 - accuracy: 0.7516 - recall: 0.6973 - val_loss: 0.8337 - val_accuracy: 0.7155 - val_recall: 0.6625 - lr: 7.8125e-06\n",
            "Epoch 54/100\n",
            "88/88 [==============================] - 31s 348ms/step - loss: 1.8185 - accuracy: 0.7535 - recall: 0.6974 - val_loss: 0.8276 - val_accuracy: 0.7175 - val_recall: 0.6650 - lr: 7.8125e-06\n",
            "Epoch 55/100\n",
            "46/88 [==============>...............] - ETA: 11s - loss: 1.7014 - accuracy: 0.7548 - recall: 0.7012"
          ],
          "name": "stdout"
        }
      ]
    },
    {
      "cell_type": "code",
      "metadata": {
        "id": "xdMuCejUVF2U",
        "colab_type": "code",
        "colab": {}
      },
      "source": [
        "import cv2\n",
        "fmodel.predict(np.expand_dims(cv2.resize(cv2.imread('/content/ISIC_0024472.jpg'),(135,180)),axis=0))"
      ],
      "execution_count": 0,
      "outputs": []
    },
    {
      "cell_type": "code",
      "metadata": {
        "id": "PhYcfDh8CGvg",
        "colab_type": "code",
        "colab": {}
      },
      "source": [
        "loss=pd.DataFrame(fmodel.history.history)\n",
        "loss=loss[['accuracy','val_accuracy']]\n",
        "loss.plot()"
      ],
      "execution_count": 0,
      "outputs": []
    },
    {
      "cell_type": "code",
      "metadata": {
        "id": "1STWqllGVaZc",
        "colab_type": "code",
        "colab": {}
      },
      "source": [
        "# model.save('drive/My Drive/model/model final(180x135).h5')"
      ],
      "execution_count": 0,
      "outputs": []
    }
  ]
}