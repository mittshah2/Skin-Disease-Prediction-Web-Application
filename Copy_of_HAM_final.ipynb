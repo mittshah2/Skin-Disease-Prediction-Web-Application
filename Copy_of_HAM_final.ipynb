{
  "nbformat": 4,
  "nbformat_minor": 0,
  "metadata": {
    "colab": {
      "name": "Copy of HAM final.ipynb",
      "provenance": [],
      "collapsed_sections": [],
      "machine_shape": "hm",
      "mount_file_id": "1MFjgnfyeAuPiA8b3YrotzmsTOGckgXEc",
      "authorship_tag": "ABX9TyMuV70Tm4/5raKG4AL1TdTm",
      "include_colab_link": true
    },
    "kernelspec": {
      "name": "python3",
      "display_name": "Python 3"
    },
    "accelerator": "GPU"
  },
  "cells": [
    {
      "cell_type": "markdown",
      "metadata": {
        "id": "view-in-github",
        "colab_type": "text"
      },
      "source": [
        "<a href=\"https://colab.research.google.com/github/mittshah2/Skin-Disease-Prediction-Web-Application/blob/dev/Copy_of_HAM_final.ipynb\" target=\"_parent\"><img src=\"https://colab.research.google.com/assets/colab-badge.svg\" alt=\"Open In Colab\"/></a>"
      ]
    },
    {
      "cell_type": "code",
      "metadata": {
        "id": "FXdkx-ZtOIUL",
        "colab_type": "code",
        "colab": {}
      },
      "source": [
        "import os\n",
        "import pandas as pd\n",
        "import numpy as np\n",
        "import matplotlib.pyplot as p\n",
        "import PIL as pil\n",
        "from tensorflow.keras.preprocessing.image import ImageDataGenerator\n",
        "from tensorflow.keras.utils import to_categorical,normalize\n",
        "import cv2\n",
        "from cv2 import cvtColor\n",
        "from tqdm import tqdm\n",
        "from tensorflow.keras.applications.vgg19 import VGG19,preprocess_input"
      ],
      "execution_count": 0,
      "outputs": []
    },
    {
      "cell_type": "code",
      "metadata": {
        "id": "-1sJpAHfOgMI",
        "colab_type": "code",
        "colab": {}
      },
      "source": [
        "# !unzip -uq 'drive/My Drive/Actinic keratoses.zip' -d '/'\n",
        "# !unzip -uq 'drive/My Drive/Basal cell carcinoma.zip' -d '/'\n",
        "# !unzip -uq 'drive/My Drive/Benign keratosis-like lesions.zip' -d '/'\n",
        "# !unzip -uq 'drive/My Drive/Melanocytic nevi.zip' -d '/'\n",
        "# !unzip -uq 'drive/My Drive/Dermatofibroma.zip' -d '/'\n",
        "# !unzip -uq 'drive/My Drive/Melanoma.zip' -d '/'\n",
        "# !unzip -uq 'drive/My Drive/Vascular lesions.zip' -d '/'"
      ],
      "execution_count": 0,
      "outputs": []
    },
    {
      "cell_type": "code",
      "metadata": {
        "id": "EmbAmYamO0NF",
        "colab_type": "code",
        "colab": {}
      },
      "source": [
        "datagen=ImageDataGenerator(samplewise_center=True,samplewise_std_normalization=True,preprocessing_function=preprocess_input)"
      ],
      "execution_count": 0,
      "outputs": []
    },
    {
      "cell_type": "code",
      "metadata": {
        "id": "EbdsQlhMO4NT",
        "colab_type": "code",
        "colab": {}
      },
      "source": [
        "input_shape=(224,224,3)"
      ],
      "execution_count": 0,
      "outputs": []
    },
    {
      "cell_type": "code",
      "metadata": {
        "id": "jjnphAwYO6p-",
        "colab_type": "code",
        "colab": {}
      },
      "source": [
        "# data=[]\n",
        "# for i in tqdm(os.listdir('/Actinic keratoses')):\n",
        "#   path='/Actinic keratoses/'+str(i)\n",
        "#   img=cv2.imread(path)  \n",
        "#   img=cv2.cvtColor(img,cv2.COLOR_BGR2GRAY)\n",
        "#   img=cv2.resize(img,input_shape[:2])\n",
        "#   data.append(img)\n",
        "# x=np.asarray(data)"
      ],
      "execution_count": 0,
      "outputs": []
    },
    {
      "cell_type": "code",
      "metadata": {
        "id": "kyoOPh0NPRSl",
        "colab_type": "code",
        "colab": {}
      },
      "source": [
        "# data=[]\n",
        "# for i in tqdm(os.listdir('/Basal cell carcinoma')):\n",
        "#   path='/Basal cell carcinoma/'+str(i)\n",
        "#   img=cv2.imread(path)\n",
        "#   img=cv2.cvtColor(img,cv2.COLOR_BGR2GRAY)\n",
        "#   img=cv2.resize(img,input_shape[:2])\n",
        "#   data.append(img)\n",
        "# x=np.append(x,data,axis=0)"
      ],
      "execution_count": 0,
      "outputs": []
    },
    {
      "cell_type": "code",
      "metadata": {
        "id": "K__p4EDdFLax",
        "colab_type": "code",
        "colab": {}
      },
      "source": [
        "# x.shape"
      ],
      "execution_count": 0,
      "outputs": []
    },
    {
      "cell_type": "code",
      "metadata": {
        "id": "MQlFPL9yQgHu",
        "colab_type": "code",
        "colab": {}
      },
      "source": [
        "# data=[]\n",
        "# for i in tqdm(os.listdir('/Benign keratosis-like lesions')):\n",
        "#   path='/Benign keratosis-like lesions/'+str(i)\n",
        "#   img=cv2.imread(path)\n",
        "#   img=cv2.cvtColor(img,cv2.COLOR_BGR2GRAY)\n",
        "#   img=cv2.resize(img,input_shape[:2])\n",
        "#   data.append(img)\n",
        "# x=np.append(x,data,axis=0)"
      ],
      "execution_count": 0,
      "outputs": []
    },
    {
      "cell_type": "code",
      "metadata": {
        "id": "3R0ivPSTQjAy",
        "colab_type": "code",
        "colab": {}
      },
      "source": [
        "# data=[]\n",
        "# for i in tqdm(os.listdir('/Dermatofibroma')):\n",
        "#   path='/Dermatofibroma/'+str(i)\n",
        "#   img=cv2.imread(path)\n",
        "#   img=cv2.cvtColor(img,cv2.COLOR_BGR2GRAY)\n",
        "#   img=cv2.resize(img,input_shape[:2])\n",
        "#   data.append(img)\n",
        "# x=np.append(x,data,axis=0)"
      ],
      "execution_count": 0,
      "outputs": []
    },
    {
      "cell_type": "code",
      "metadata": {
        "id": "Nft7m58uQjmf",
        "colab_type": "code",
        "colab": {}
      },
      "source": [
        "# data=[]\n",
        "# for i in tqdm(os.listdir('/Melanocytic nevi')):\n",
        "#   path='/Melanocytic nevi/'+str(i)\n",
        "#   img=cv2.imread(path)\n",
        "#   img=cv2.cvtColor(img,cv2.COLOR_BGR2GRAY)\n",
        "#   img=cv2.resize(img,input_shape[:2])\n",
        "#   data.append(img)\n",
        "# x=np.append(x,data,axis=0)"
      ],
      "execution_count": 0,
      "outputs": []
    },
    {
      "cell_type": "code",
      "metadata": {
        "id": "HDnx7Dsq2lBr",
        "colab_type": "code",
        "colab": {}
      },
      "source": [
        "# len(data)"
      ],
      "execution_count": 0,
      "outputs": []
    },
    {
      "cell_type": "code",
      "metadata": {
        "id": "d63stFJ9Qjpm",
        "colab_type": "code",
        "colab": {}
      },
      "source": [
        "# data=[]\n",
        "# for i in tqdm(os.listdir('/Melanoma')):\n",
        "#   path='/Melanoma/'+str(i)\n",
        "#   img=cv2.imread(path)\n",
        "#   img=cv2.cvtColor(img,cv2.COLOR_BGR2GRAY)\n",
        "#   img=cv2.resize(img,input_shape[:2])\n",
        "#   data.append(img)\n",
        "# x=np.append(x,data,axis=0)"
      ],
      "execution_count": 0,
      "outputs": []
    },
    {
      "cell_type": "code",
      "metadata": {
        "id": "WCr72Ld8Qjtw",
        "colab_type": "code",
        "colab": {}
      },
      "source": [
        "# data=[]\n",
        "# for i in tqdm(os.listdir('/Vascular lesions')):\n",
        "#   path='/Vascular lesions/'+str(i)\n",
        "#   img=cv2.imread(path)\n",
        "#   img=cv2.cvtColor(img,cv2.COLOR_BGR2GRAY)\n",
        "#   img=cv2.resize(img,input_shape[:2])\n",
        "#   data.append(img)\n",
        "# x=np.append(x,data,axis=0)"
      ],
      "execution_count": 0,
      "outputs": []
    },
    {
      "cell_type": "code",
      "metadata": {
        "id": "F7jDvEOuQoQd",
        "colab_type": "code",
        "colab": {}
      },
      "source": [
        "# x.shape"
      ],
      "execution_count": 0,
      "outputs": []
    },
    {
      "cell_type": "code",
      "metadata": {
        "id": "M-Yg7ZmjQqdd",
        "colab_type": "code",
        "colab": {}
      },
      "source": [
        "# np.save('drive/My Drive/data of ham gray.npy',x)"
      ],
      "execution_count": 0,
      "outputs": []
    },
    {
      "cell_type": "code",
      "metadata": {
        "id": "pUhiOMRXW3Nu",
        "colab_type": "code",
        "colab": {}
      },
      "source": [
        "x=np.load('drive/My Drive/HAM/data of ham(224x224).npy')"
      ],
      "execution_count": 0,
      "outputs": []
    },
    {
      "cell_type": "code",
      "metadata": {
        "id": "1nGg529ZtMjh",
        "colab_type": "code",
        "outputId": "eb947852-bd58-40c2-ce23-6af2954b3890",
        "colab": {
          "base_uri": "https://localhost:8080/",
          "height": 36
        }
      },
      "source": [
        "x.shape"
      ],
      "execution_count": 17,
      "outputs": [
        {
          "output_type": "execute_result",
          "data": {
            "text/plain": [
              "(9895, 224, 224, 3)"
            ]
          },
          "metadata": {
            "tags": []
          },
          "execution_count": 17
        }
      ]
    },
    {
      "cell_type": "code",
      "metadata": {
        "id": "ddqdHcbWQsdG",
        "colab_type": "code",
        "outputId": "0c372c9c-39ed-4472-ddfb-3a96706b8703",
        "colab": {
          "base_uri": "https://localhost:8080/",
          "height": 36
        }
      },
      "source": [
        "y=[]\n",
        "for i in range(130):\n",
        "  y.append(0)\n",
        "for i in range(514):\n",
        "  y.append(1)\n",
        "for i in range(1176):\n",
        "  y.append(2)\n",
        "for i in range(115):\n",
        "  y.append(3)\n",
        "for i in range(6705):\n",
        "  y.append(4)\n",
        "for i in range(1113):\n",
        "  y.append(5)\n",
        "for i in range(142):\n",
        "  y.append(6)\n",
        "len(y)"
      ],
      "execution_count": 18,
      "outputs": [
        {
          "output_type": "execute_result",
          "data": {
            "text/plain": [
              "9895"
            ]
          },
          "metadata": {
            "tags": []
          },
          "execution_count": 18
        }
      ]
    },
    {
      "cell_type": "code",
      "metadata": {
        "id": "Tb9CPe_lQuOo",
        "colab_type": "code",
        "outputId": "30a9ba5f-e4a5-4f0d-c944-badf77e8b7e5",
        "colab": {
          "base_uri": "https://localhost:8080/",
          "height": 36
        }
      },
      "source": [
        "y=np.asarray(y)\n",
        "y.shape"
      ],
      "execution_count": 19,
      "outputs": [
        {
          "output_type": "execute_result",
          "data": {
            "text/plain": [
              "(9895,)"
            ]
          },
          "metadata": {
            "tags": []
          },
          "execution_count": 19
        }
      ]
    },
    {
      "cell_type": "code",
      "metadata": {
        "id": "2EaGKIf6QwMG",
        "colab_type": "code",
        "outputId": "3cd008b1-2832-4aed-ddf0-02ab552ac8c7",
        "colab": {
          "base_uri": "https://localhost:8080/",
          "height": 36
        }
      },
      "source": [
        "y=to_categorical(y)\n",
        "y.shape"
      ],
      "execution_count": 20,
      "outputs": [
        {
          "output_type": "execute_result",
          "data": {
            "text/plain": [
              "(9895, 7)"
            ]
          },
          "metadata": {
            "tags": []
          },
          "execution_count": 20
        }
      ]
    },
    {
      "cell_type": "code",
      "metadata": {
        "id": "9OYd7gQXbtk9",
        "colab_type": "code",
        "colab": {}
      },
      "source": [
        "from sklearn.model_selection import train_test_split\n",
        "\n",
        "trainx,trainy,testx,testy = train_test_split(x,y,test_size=0.2,random_state=42)"
      ],
      "execution_count": 0,
      "outputs": []
    },
    {
      "cell_type": "code",
      "metadata": {
        "id": "Iqg6bpORcFwU",
        "colab_type": "code",
        "colab": {}
      },
      "source": [
        "datagen.fit(trainx,augment=True,seed=42)"
      ],
      "execution_count": 0,
      "outputs": []
    },
    {
      "cell_type": "code",
      "metadata": {
        "id": "Y-vvoj1jkOqg",
        "colab_type": "code",
        "colab": {}
      },
      "source": [
        "# from tensorflow.keras.layers import InputLayer,Flatten,Dense,Dropout,BatchNormalization,Conv2D,MaxPooling2D,GaussianNoise,ActivityRegularization\n",
        "# from tensorflow.keras.models import Sequential\n",
        "# from tensorflow.keras.metrics import Recall\n",
        "# from tensorflow.keras.optimizers import RMSprop\n",
        "\n",
        "# l2=1000\n",
        "\n",
        "\n",
        "# model=Sequential()\n",
        "\n",
        "# model.add(InputLayer(input_shape))\n",
        "# model.add(GaussianNoise(0.1))\n",
        "# model.add(Conv2D(64,(2,2),activation='relu'))\n",
        "# model.add(MaxPooling2D(pool_size=(2, 2)))\n",
        "# model.add(ActivityRegularization(l2=l2))\n",
        "# # model.add(BatchNormalization())\n",
        "\n",
        "# model.add(Conv2D(256,(2,2),activation='relu'))\n",
        "# model.add(MaxPooling2D(pool_size=(2, 2)))\n",
        "# model.add(ActivityRegularization(l2=l2))\n",
        "# # model.add(BatchNormalization())\n",
        "\n",
        "# model.add(Conv2D(512,(2,2),activation='relu'))\n",
        "# model.add(MaxPooling2D(pool_size=(2, 2)))\n",
        "# model.add(ActivityRegularization(l2=l2))\n",
        "# # model.add(BatchNormalization())\n",
        "\n",
        "# model.add(Conv2D(512,(2,2),activation='relu'))\n",
        "# model.add(MaxPooling2D(pool_size=(2, 2)))\n",
        "# model.add(ActivityRegularization(l2=l2))\n",
        "# # model.add(BatchNormalization())\n",
        "\n",
        "\n",
        "# model.add(Conv2D(512,(2,2),activation='relu'))\n",
        "# model.add(MaxPooling2D(pool_size=(2, 2)))\n",
        "# model.add(ActivityRegularization(l2=l2))\n",
        "# # model.add(BatchNormalization())\n",
        "\n",
        "# model.add(Conv2D(1024,(2,2),activation='relu'))\n",
        "# model.add(MaxPooling2D(pool_size=(2, 2)))\n",
        "# model.add(ActivityRegularization(l2=l2))\n",
        "\n",
        "# model.add(Conv2D(1024,(1,1),activation='relu'))\n",
        "# model.add(MaxPooling2D(pool_size=(1, 1)))\n",
        "# model.add(ActivityRegularization(l2=l2))\n",
        "\n",
        "# model.add(Conv2D(1024,(1,1),activation='relu'))\n",
        "# model.add(MaxPooling2D(pool_size=(1, 1)))\n",
        "# model.add(ActivityRegularization(l2=l2))\n",
        "\n",
        "\n",
        "# model.add(Flatten())\n",
        "\n",
        "# model.add(Dense(512,activation='relu'))\n",
        "\n",
        "# model.add(ActivityRegularization(l2=l2))\n",
        "\n",
        "# model.add(Dense(512,activation='relu'))\n",
        "\n",
        "# model.add(ActivityRegularization(l2=l2))\n",
        "\n",
        "# model.add(Dense(1024,activation='relu'))\n",
        "\n",
        "# model.add(ActivityRegularization(l2=l2))\n",
        "\n",
        "# model.add(Dense(7,activation='softmax'))\n",
        "\n",
        "# model.compile(optimizer='adam',loss='categorical_crossentropy',metrics=['accuracy',Recall()])\n",
        "# # model.summary()"
      ],
      "execution_count": 0,
      "outputs": []
    },
    {
      "cell_type": "code",
      "metadata": {
        "id": "bvCN-iaG_mTR",
        "colab_type": "code",
        "colab": {}
      },
      "source": [
        "pre_trained_model = VGG19(input_shape = input_shape, \n",
        "                                include_top = False, \n",
        "                                weights = 'imagenet')"
      ],
      "execution_count": 0,
      "outputs": []
    },
    {
      "cell_type": "code",
      "metadata": {
        "id": "vYkqDpzB_oDx",
        "colab_type": "code",
        "colab": {}
      },
      "source": [
        "for layer in pre_trained_model.layers:\n",
        "  layer.trainable = False"
      ],
      "execution_count": 0,
      "outputs": []
    },
    {
      "cell_type": "code",
      "metadata": {
        "id": "2lh2bIDE_p8p",
        "colab_type": "code",
        "colab": {}
      },
      "source": [
        "# pre_trained_model.summary()"
      ],
      "execution_count": 0,
      "outputs": []
    },
    {
      "cell_type": "code",
      "metadata": {
        "id": "SMfjF0yl_sR5",
        "colab_type": "code",
        "outputId": "9b63c776-f47a-464c-bcff-8387e38641e8",
        "colab": {
          "base_uri": "https://localhost:8080/",
          "height": 36
        }
      },
      "source": [
        "last_layer = pre_trained_model.get_layer('block5_pool')\n",
        "print('last layer output shape: ', last_layer.output_shape)\n",
        "last_output = last_layer.output"
      ],
      "execution_count": 27,
      "outputs": [
        {
          "output_type": "stream",
          "text": [
            "last layer output shape:  (None, 7, 7, 512)\n"
          ],
          "name": "stdout"
        }
      ]
    },
    {
      "cell_type": "code",
      "metadata": {
        "id": "pU1VGuCu_ujw",
        "colab_type": "code",
        "colab": {}
      },
      "source": [
        "from tensorflow.keras.layers import Flatten,Dense,Dropout,BatchNormalization\n",
        "\n",
        "model = Flatten()(last_output)\n",
        "model = Dense(4096, activation='relu')(model)\n",
        "model = Dropout(0.4)(model)\n",
        "model = Dense(4096, activation='relu')(model)\n",
        "model = Dropout(0.4)(model)\n",
        "model = Dense(7, activation='softmax')(model) "
      ],
      "execution_count": 0,
      "outputs": []
    },
    {
      "cell_type": "code",
      "metadata": {
        "id": "azNyqGayALze",
        "colab_type": "code",
        "colab": {}
      },
      "source": [
        "from tensorflow.keras.models import Model\n",
        "from tensorflow.keras.metrics import Recall\n",
        "from tensorflow.keras.optimizers import RMSprop\n",
        "\n",
        "recall=Recall()\n",
        "fmodel = Model( pre_trained_model.input, model) \n",
        "\n",
        "fmodel.compile(optimizer = 'adam', \n",
        "              loss = 'categorical_crossentropy', \n",
        "              metrics = ['accuracy',recall])\n",
        "# model.summary()"
      ],
      "execution_count": 0,
      "outputs": []
    },
    {
      "cell_type": "code",
      "metadata": {
        "id": "uYRg2tl8dyxf",
        "colab_type": "code",
        "colab": {}
      },
      "source": [
        "from tensorflow.keras.callbacks import EarlyStopping,ReduceLROnPlateau\n",
        "\n",
        "\n",
        "early=EarlyStopping(monitor='accuracy',patience=3,mode='auto')\n",
        "reduce_lr = ReduceLROnPlateau(monitor='accuracy', factor=0.5, patience=2, verbose=1,cooldown=0, mode='auto',min_delta=0.0001, min_lr=0)\n",
        "batch_size=90"
      ],
      "execution_count": 0,
      "outputs": []
    },
    {
      "cell_type": "code",
      "metadata": {
        "id": "pGL9McADsh4s",
        "colab_type": "code",
        "colab": {}
      },
      "source": [
        "class_weight={4:1,0:57.3,1:13.04,2:6,3:58.3,5:6,6:47}"
      ],
      "execution_count": 0,
      "outputs": []
    },
    {
      "cell_type": "code",
      "metadata": {
        "id": "OWUBo-j3wc8f",
        "colab_type": "code",
        "outputId": "6e0eab09-b797-4e20-a505-61591f6d35bd",
        "colab": {
          "base_uri": "https://localhost:8080/",
          "height": 841
        }
      },
      "source": [
        "fmodel.fit(datagen.flow(trainx, testx,batch_size=90),epochs=20,validation_data=datagen.flow(trainy, testy,batch_size=16),callbacks=[reduce_lr,early])"
      ],
      "execution_count": 32,
      "outputs": [
        {
          "output_type": "stream",
          "text": [
            "Epoch 1/20\n",
            "88/88 [==============================] - 32s 368ms/step - loss: 2.0023 - accuracy: 0.6703 - recall: 0.5829 - val_loss: 0.7813 - val_accuracy: 0.7211 - val_recall: 0.5927 - lr: 0.0010\n",
            "Epoch 2/20\n",
            "88/88 [==============================] - 30s 340ms/step - loss: 0.7752 - accuracy: 0.7260 - recall: 0.6325 - val_loss: 0.7351 - val_accuracy: 0.7362 - val_recall: 0.6170 - lr: 0.0010\n",
            "Epoch 3/20\n",
            "88/88 [==============================] - 30s 341ms/step - loss: 0.7003 - accuracy: 0.7494 - recall: 0.6703 - val_loss: 0.7300 - val_accuracy: 0.7423 - val_recall: 0.6104 - lr: 0.0010\n",
            "Epoch 4/20\n",
            "88/88 [==============================] - 30s 340ms/step - loss: 0.7272 - accuracy: 0.7409 - recall: 0.6614 - val_loss: 0.7519 - val_accuracy: 0.7201 - val_recall: 0.6119 - lr: 0.0010\n",
            "Epoch 5/20\n",
            "88/88 [==============================] - 30s 341ms/step - loss: 0.6717 - accuracy: 0.7595 - recall: 0.6827 - val_loss: 0.6684 - val_accuracy: 0.7484 - val_recall: 0.6564 - lr: 0.0010\n",
            "Epoch 6/20\n",
            "88/88 [==============================] - 30s 341ms/step - loss: 0.6058 - accuracy: 0.7801 - recall: 0.7110 - val_loss: 0.6788 - val_accuracy: 0.7554 - val_recall: 0.6902 - lr: 0.0010\n",
            "Epoch 7/20\n",
            "88/88 [==============================] - 30s 341ms/step - loss: 0.5831 - accuracy: 0.7890 - recall: 0.7265 - val_loss: 0.6572 - val_accuracy: 0.7660 - val_recall: 0.6983 - lr: 0.0010\n",
            "Epoch 8/20\n",
            "88/88 [==============================] - 30s 341ms/step - loss: 0.5651 - accuracy: 0.7965 - recall: 0.7319 - val_loss: 0.6867 - val_accuracy: 0.7620 - val_recall: 0.7029 - lr: 0.0010\n",
            "Epoch 9/20\n",
            "88/88 [==============================] - 30s 341ms/step - loss: 0.5590 - accuracy: 0.7912 - recall: 0.7298 - val_loss: 0.6580 - val_accuracy: 0.7660 - val_recall: 0.6847 - lr: 0.0010\n",
            "Epoch 10/20\n",
            "88/88 [==============================] - ETA: 0s - loss: 0.5433 - accuracy: 0.7950 - recall: 0.7326\n",
            "Epoch 00010: ReduceLROnPlateau reducing learning rate to 0.0005000000237487257.\n",
            "88/88 [==============================] - 30s 341ms/step - loss: 0.5433 - accuracy: 0.7950 - recall: 0.7326 - val_loss: 0.7047 - val_accuracy: 0.7453 - val_recall: 0.6791 - lr: 0.0010\n",
            "Epoch 11/20\n",
            "88/88 [==============================] - 30s 340ms/step - loss: 0.4815 - accuracy: 0.8171 - recall: 0.7610 - val_loss: 0.6724 - val_accuracy: 0.7569 - val_recall: 0.6963 - lr: 5.0000e-04\n",
            "Epoch 12/20\n",
            "88/88 [==============================] - 30s 340ms/step - loss: 0.4198 - accuracy: 0.8388 - recall: 0.7873 - val_loss: 0.6961 - val_accuracy: 0.7610 - val_recall: 0.7160 - lr: 5.0000e-04\n",
            "Epoch 13/20\n",
            "88/88 [==============================] - 30s 340ms/step - loss: 0.4089 - accuracy: 0.8416 - recall: 0.7961 - val_loss: 0.7390 - val_accuracy: 0.7665 - val_recall: 0.7428 - lr: 5.0000e-04\n",
            "Epoch 14/20\n",
            "88/88 [==============================] - 30s 341ms/step - loss: 0.3776 - accuracy: 0.8560 - recall: 0.8118 - val_loss: 0.6934 - val_accuracy: 0.7751 - val_recall: 0.7236 - lr: 5.0000e-04\n",
            "Epoch 15/20\n",
            "88/88 [==============================] - 30s 340ms/step - loss: 0.3479 - accuracy: 0.8643 - recall: 0.8288 - val_loss: 0.7616 - val_accuracy: 0.7665 - val_recall: 0.7372 - lr: 5.0000e-04\n",
            "Epoch 16/20\n",
            "88/88 [==============================] - 30s 340ms/step - loss: 0.3316 - accuracy: 0.8708 - recall: 0.8413 - val_loss: 0.7209 - val_accuracy: 0.7706 - val_recall: 0.7438 - lr: 5.0000e-04\n",
            "Epoch 17/20\n",
            "88/88 [==============================] - 30s 340ms/step - loss: 0.3106 - accuracy: 0.8800 - recall: 0.8504 - val_loss: 0.7479 - val_accuracy: 0.7802 - val_recall: 0.7544 - lr: 5.0000e-04\n",
            "Epoch 18/20\n",
            "88/88 [==============================] - 30s 340ms/step - loss: 0.2951 - accuracy: 0.8874 - recall: 0.8588 - val_loss: 0.9118 - val_accuracy: 0.7671 - val_recall: 0.7554 - lr: 5.0000e-04\n",
            "Epoch 19/20\n",
            "88/88 [==============================] - 30s 342ms/step - loss: 0.3046 - accuracy: 0.8806 - recall: 0.8508 - val_loss: 0.8139 - val_accuracy: 0.7797 - val_recall: 0.7650 - lr: 5.0000e-04\n",
            "Epoch 20/20\n",
            "88/88 [==============================] - 30s 342ms/step - loss: 0.2788 - accuracy: 0.8883 - recall: 0.8599 - val_loss: 0.8033 - val_accuracy: 0.7741 - val_recall: 0.7499 - lr: 5.0000e-04\n"
          ],
          "name": "stdout"
        },
        {
          "output_type": "execute_result",
          "data": {
            "text/plain": [
              "<tensorflow.python.keras.callbacks.History at 0x7fc156677748>"
            ]
          },
          "metadata": {
            "tags": []
          },
          "execution_count": 32
        }
      ]
    },
    {
      "cell_type": "code",
      "metadata": {
        "id": "PhYcfDh8CGvg",
        "colab_type": "code",
        "colab": {
          "base_uri": "https://localhost:8080/",
          "height": 284
        },
        "outputId": "6e8f890a-deeb-475c-dc70-af28754c71e4"
      },
      "source": [
        "loss=pd.DataFrame(fmodel.history.history)\n",
        "loss=loss[['accuracy','val_accuracy']]\n",
        "loss.plot()"
      ],
      "execution_count": 34,
      "outputs": [
        {
          "output_type": "execute_result",
          "data": {
            "text/plain": [
              "<matplotlib.axes._subplots.AxesSubplot at 0x7fc13e74f048>"
            ]
          },
          "metadata": {
            "tags": []
          },
          "execution_count": 34
        },
        {
          "output_type": "display_data",
          "data": {
            "image/png": "[encoded data removed]",
            "text/plain": [
              "<Figure size 432x288 with 1 Axes>"
            ]
          },
          "metadata": {
            "tags": [],
            "needs_background": "light"
          }
        }
      ]
    },
    {
      "cell_type": "code",
      "metadata": {
        "id": "1STWqllGVaZc",
        "colab_type": "code",
        "colab": {}
      },
      "source": [
        "# model.save('drive/My Drive/model/model final(180x135).h5')"
      ],
      "execution_count": 0,
      "outputs": []
    }
  ]
}