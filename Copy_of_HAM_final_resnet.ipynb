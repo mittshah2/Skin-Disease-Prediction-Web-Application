{
  "nbformat": 4,
  "nbformat_minor": 0,
  "metadata": {
    "colab": {
      "name": "Copy of HAM final.ipynb",
      "provenance": [],
      "collapsed_sections": [],
      "machine_shape": "hm",
      "mount_file_id": "1MFjgnfyeAuPiA8b3YrotzmsTOGckgXEc",
      "authorship_tag": "ABX9TyOT+/JUSYJzRhVCE1zxNBEq",
      "include_colab_link": true
    },
    "kernelspec": {
      "name": "python3",
      "display_name": "Python 3"
    },
    "accelerator": "GPU"
  },
  "cells": [
    {
      "cell_type": "markdown",
      "metadata": {
        "id": "view-in-github",
        "colab_type": "text"
      },
      "source": [
        "<a href=\"https://colab.research.google.com/github/mittshah2/Skin-Disease-Prediction-Web-Application/blob/dev/Copy_of_HAM_final.ipynb\" target=\"_parent\"><img src=\"https://colab.research.google.com/assets/colab-badge.svg\" alt=\"Open In Colab\"/></a>"
      ]
    },
    {
      "cell_type": "code",
      "metadata": {
        "id": "FXdkx-ZtOIUL",
        "colab_type": "code",
        "colab": {}
      },
      "source": [
        "import os\n",
        "import pandas as pd\n",
        "import numpy as np\n",
        "import matplotlib.pyplot as p\n",
        "import PIL as pil\n",
        "from tensorflow.keras.preprocessing.image import ImageDataGenerator\n",
        "from tensorflow.keras.utils import to_categorical,normalize\n",
        "import cv2\n",
        "from cv2 import cvtColor\n",
        "from tqdm import tqdm\n",
        "from tensorflow.keras.applications.resnet_v2 import ResNet152V2,preprocess_input"
      ],
      "execution_count": 0,
      "outputs": []
    },
    {
      "cell_type": "code",
      "metadata": {
        "id": "-1sJpAHfOgMI",
        "colab_type": "code",
        "colab": {}
      },
      "source": [
        "# !unzip -uq 'drive/My Drive/Actinic keratoses.zip' -d '/'\n",
        "# !unzip -uq 'drive/My Drive/Basal cell carcinoma.zip' -d '/'\n",
        "# !unzip -uq 'drive/My Drive/Benign keratosis-like lesions.zip' -d '/'\n",
        "# !unzip -uq 'drive/My Drive/Melanocytic nevi.zip' -d '/'\n",
        "# !unzip -uq 'drive/My Drive/Dermatofibroma.zip' -d '/'\n",
        "# !unzip -uq 'drive/My Drive/Melanoma.zip' -d '/'\n",
        "# !unzip -uq 'drive/My Drive/Vascular lesions.zip' -d '/'"
      ],
      "execution_count": 0,
      "outputs": []
    },
    {
      "cell_type": "code",
      "metadata": {
        "id": "EmbAmYamO0NF",
        "colab_type": "code",
        "colab": {}
      },
      "source": [
        "datagen=ImageDataGenerator(preprocessing_function=preprocess_input,brightness_range=(0.1,0.3),horizontal_flip=True)"
      ],
      "execution_count": 0,
      "outputs": []
    },
    {
      "cell_type": "code",
      "metadata": {
        "id": "EbdsQlhMO4NT",
        "colab_type": "code",
        "colab": {}
      },
      "source": [
        "input_shape=(224,224,3)"
      ],
      "execution_count": 0,
      "outputs": []
    },
    {
      "cell_type": "code",
      "metadata": {
        "id": "jjnphAwYO6p-",
        "colab_type": "code",
        "colab": {}
      },
      "source": [
        "# data=[]\n",
        "# for i in tqdm(os.listdir('/Actinic keratoses')):\n",
        "#   path='/Actinic keratoses/'+str(i)\n",
        "#   img=cv2.imread(path)  \n",
        "#   img=cv2.cvtColor(img,cv2.COLOR_BGR2GRAY)\n",
        "#   img=cv2.resize(img,input_shape[:2])\n",
        "#   data.append(img)\n",
        "# x=np.asarray(data)"
      ],
      "execution_count": 0,
      "outputs": []
    },
    {
      "cell_type": "code",
      "metadata": {
        "id": "kyoOPh0NPRSl",
        "colab_type": "code",
        "colab": {}
      },
      "source": [
        "# data=[]\n",
        "# for i in tqdm(os.listdir('/Basal cell carcinoma')):\n",
        "#   path='/Basal cell carcinoma/'+str(i)\n",
        "#   img=cv2.imread(path)\n",
        "#   img=cv2.cvtColor(img,cv2.COLOR_BGR2GRAY)\n",
        "#   img=cv2.resize(img,input_shape[:2])\n",
        "#   data.append(img)\n",
        "# x=np.append(x,data,axis=0)"
      ],
      "execution_count": 0,
      "outputs": []
    },
    {
      "cell_type": "code",
      "metadata": {
        "id": "K__p4EDdFLax",
        "colab_type": "code",
        "colab": {}
      },
      "source": [
        "# x.shape"
      ],
      "execution_count": 0,
      "outputs": []
    },
    {
      "cell_type": "code",
      "metadata": {
        "id": "MQlFPL9yQgHu",
        "colab_type": "code",
        "colab": {}
      },
      "source": [
        "# data=[]\n",
        "# for i in tqdm(os.listdir('/Benign keratosis-like lesions')):\n",
        "#   path='/Benign keratosis-like lesions/'+str(i)\n",
        "#   img=cv2.imread(path)\n",
        "#   img=cv2.cvtColor(img,cv2.COLOR_BGR2GRAY)\n",
        "#   img=cv2.resize(img,input_shape[:2])\n",
        "#   data.append(img)\n",
        "# x=np.append(x,data,axis=0)"
      ],
      "execution_count": 0,
      "outputs": []
    },
    {
      "cell_type": "code",
      "metadata": {
        "id": "3R0ivPSTQjAy",
        "colab_type": "code",
        "colab": {}
      },
      "source": [
        "# data=[]\n",
        "# for i in tqdm(os.listdir('/Dermatofibroma')):\n",
        "#   path='/Dermatofibroma/'+str(i)\n",
        "#   img=cv2.imread(path)\n",
        "#   img=cv2.cvtColor(img,cv2.COLOR_BGR2GRAY)\n",
        "#   img=cv2.resize(img,input_shape[:2])\n",
        "#   data.append(img)\n",
        "# x=np.append(x,data,axis=0)"
      ],
      "execution_count": 0,
      "outputs": []
    },
    {
      "cell_type": "code",
      "metadata": {
        "id": "Nft7m58uQjmf",
        "colab_type": "code",
        "colab": {}
      },
      "source": [
        "# data=[]\n",
        "# for i in tqdm(os.listdir('/Melanocytic nevi')):\n",
        "#   path='/Melanocytic nevi/'+str(i)\n",
        "#   img=cv2.imread(path)\n",
        "#   img=cv2.cvtColor(img,cv2.COLOR_BGR2GRAY)\n",
        "#   img=cv2.resize(img,input_shape[:2])\n",
        "#   data.append(img)\n",
        "# x=np.append(x,data,axis=0)"
      ],
      "execution_count": 0,
      "outputs": []
    },
    {
      "cell_type": "code",
      "metadata": {
        "id": "HDnx7Dsq2lBr",
        "colab_type": "code",
        "colab": {}
      },
      "source": [
        "# len(data)"
      ],
      "execution_count": 0,
      "outputs": []
    },
    {
      "cell_type": "code",
      "metadata": {
        "id": "d63stFJ9Qjpm",
        "colab_type": "code",
        "colab": {}
      },
      "source": [
        "# data=[]\n",
        "# for i in tqdm(os.listdir('/Melanoma')):\n",
        "#   path='/Melanoma/'+str(i)\n",
        "#   img=cv2.imread(path)\n",
        "#   img=cv2.cvtColor(img,cv2.COLOR_BGR2GRAY)\n",
        "#   img=cv2.resize(img,input_shape[:2])\n",
        "#   data.append(img)\n",
        "# x=np.append(x,data,axis=0)"
      ],
      "execution_count": 0,
      "outputs": []
    },
    {
      "cell_type": "code",
      "metadata": {
        "id": "WCr72Ld8Qjtw",
        "colab_type": "code",
        "colab": {}
      },
      "source": [
        "# data=[]\n",
        "# for i in tqdm(os.listdir('/Vascular lesions')):\n",
        "#   path='/Vascular lesions/'+str(i)\n",
        "#   img=cv2.imread(path)\n",
        "#   img=cv2.cvtColor(img,cv2.COLOR_BGR2GRAY)\n",
        "#   img=cv2.resize(img,input_shape[:2])\n",
        "#   data.append(img)\n",
        "# x=np.append(x,data,axis=0)"
      ],
      "execution_count": 0,
      "outputs": []
    },
    {
      "cell_type": "code",
      "metadata": {
        "id": "F7jDvEOuQoQd",
        "colab_type": "code",
        "colab": {}
      },
      "source": [
        "# x.shape"
      ],
      "execution_count": 0,
      "outputs": []
    },
    {
      "cell_type": "code",
      "metadata": {
        "id": "M-Yg7ZmjQqdd",
        "colab_type": "code",
        "colab": {}
      },
      "source": [
        "# np.save('drive/My Drive/data of ham gray.npy',x)"
      ],
      "execution_count": 0,
      "outputs": []
    },
    {
      "cell_type": "code",
      "metadata": {
        "id": "pUhiOMRXW3Nu",
        "colab_type": "code",
        "colab": {}
      },
      "source": [
        "x=np.load('drive/My Drive/HAM/data of ham(224x224).npy')"
      ],
      "execution_count": 0,
      "outputs": []
    },
    {
      "cell_type": "code",
      "metadata": {
        "id": "1nGg529ZtMjh",
        "colab_type": "code",
        "outputId": "b30f3a1b-206c-468b-8ef3-02a7110522e6",
        "colab": {
          "base_uri": "https://localhost:8080/",
          "height": 36
        }
      },
      "source": [
        "x.shape"
      ],
      "execution_count": 17,
      "outputs": [
        {
          "output_type": "execute_result",
          "data": {
            "text/plain": [
              "(9895, 224, 224, 3)"
            ]
          },
          "metadata": {
            "tags": []
          },
          "execution_count": 17
        }
      ]
    },
    {
      "cell_type": "code",
      "metadata": {
        "id": "ddqdHcbWQsdG",
        "colab_type": "code",
        "outputId": "b5ea9325-fec8-411c-9188-a3b9e0d79534",
        "colab": {
          "base_uri": "https://localhost:8080/",
          "height": 36
        }
      },
      "source": [
        "y=[]\n",
        "for i in range(130):\n",
        "  y.append(0)\n",
        "for i in range(514):\n",
        "  y.append(1)\n",
        "for i in range(1176):\n",
        "  y.append(2)\n",
        "for i in range(115):\n",
        "  y.append(3)\n",
        "for i in range(6705):\n",
        "  y.append(4)\n",
        "for i in range(1113):\n",
        "  y.append(5)\n",
        "for i in range(142):\n",
        "  y.append(6)\n",
        "len(y)"
      ],
      "execution_count": 18,
      "outputs": [
        {
          "output_type": "execute_result",
          "data": {
            "text/plain": [
              "9895"
            ]
          },
          "metadata": {
            "tags": []
          },
          "execution_count": 18
        }
      ]
    },
    {
      "cell_type": "code",
      "metadata": {
        "id": "Tb9CPe_lQuOo",
        "colab_type": "code",
        "outputId": "b133e582-7e85-49bb-f734-b6cf12f4dceb",
        "colab": {
          "base_uri": "https://localhost:8080/",
          "height": 36
        }
      },
      "source": [
        "y=np.asarray(y)\n",
        "y.shape"
      ],
      "execution_count": 19,
      "outputs": [
        {
          "output_type": "execute_result",
          "data": {
            "text/plain": [
              "(9895,)"
            ]
          },
          "metadata": {
            "tags": []
          },
          "execution_count": 19
        }
      ]
    },
    {
      "cell_type": "code",
      "metadata": {
        "id": "2EaGKIf6QwMG",
        "colab_type": "code",
        "outputId": "9019a9c2-2f81-4bcf-8f65-40c97410bba3",
        "colab": {
          "base_uri": "https://localhost:8080/",
          "height": 36
        }
      },
      "source": [
        "y=to_categorical(y)\n",
        "y.shape"
      ],
      "execution_count": 20,
      "outputs": [
        {
          "output_type": "execute_result",
          "data": {
            "text/plain": [
              "(9895, 7)"
            ]
          },
          "metadata": {
            "tags": []
          },
          "execution_count": 20
        }
      ]
    },
    {
      "cell_type": "code",
      "metadata": {
        "id": "9OYd7gQXbtk9",
        "colab_type": "code",
        "colab": {}
      },
      "source": [
        "from sklearn.model_selection import train_test_split\n",
        "\n",
        "trainx,trainy,testx,testy = train_test_split(x,y,test_size=0.2,random_state=42)"
      ],
      "execution_count": 0,
      "outputs": []
    },
    {
      "cell_type": "code",
      "metadata": {
        "id": "Iqg6bpORcFwU",
        "colab_type": "code",
        "colab": {}
      },
      "source": [
        "datagen.fit(trainx,augment=True,seed=42)"
      ],
      "execution_count": 0,
      "outputs": []
    },
    {
      "cell_type": "code",
      "metadata": {
        "id": "bvCN-iaG_mTR",
        "colab_type": "code",
        "colab": {}
      },
      "source": [
        "pre_trained_model = ResNet152V2(input_shape = input_shape, \n",
        "                                include_top = False, \n",
        "                                weights = 'imagenet')"
      ],
      "execution_count": 0,
      "outputs": []
    },
    {
      "cell_type": "code",
      "metadata": {
        "id": "vYkqDpzB_oDx",
        "colab_type": "code",
        "colab": {}
      },
      "source": [
        "for layer in pre_trained_model.layers:\n",
        "  layer.trainable = False"
      ],
      "execution_count": 0,
      "outputs": []
    },
    {
      "cell_type": "code",
      "metadata": {
        "id": "2lh2bIDE_p8p",
        "colab_type": "code",
        "colab": {}
      },
      "source": [
        "# pre_trained_model.summary()"
      ],
      "execution_count": 0,
      "outputs": []
    },
    {
      "cell_type": "code",
      "metadata": {
        "id": "SMfjF0yl_sR5",
        "colab_type": "code",
        "outputId": "269b2aae-4fa6-4ac1-9015-76bdedfd100c",
        "colab": {
          "base_uri": "https://localhost:8080/",
          "height": 36
        }
      },
      "source": [
        "last_layer = pre_trained_model.get_layer('post_relu')\n",
        "print('last layer output shape: ', last_layer.output_shape)\n",
        "last_output = last_layer.output"
      ],
      "execution_count": 26,
      "outputs": [
        {
          "output_type": "stream",
          "text": [
            "last layer output shape:  (None, 7, 7, 2048)\n"
          ],
          "name": "stdout"
        }
      ]
    },
    {
      "cell_type": "code",
      "metadata": {
        "id": "pU1VGuCu_ujw",
        "colab_type": "code",
        "colab": {}
      },
      "source": [
        "from tensorflow.keras.layers import Flatten,Dense,Dropout,BatchNormalization\n",
        "\n",
        "model = Flatten()(last_output)\n",
        "model = Dense(512, activation='relu')(model)\n",
        "model = Dropout(0.2)(model)\n",
        "# model=BatchNormalization()(model)\n",
        "model = Dense(512, activation='relu')(model)\n",
        "model = Dropout(0.2)(model)\n",
        "# model=BatchNormalization()(model)\n",
        "model = Dense(7, activation='softmax')(model) "
      ],
      "execution_count": 0,
      "outputs": []
    },
    {
      "cell_type": "code",
      "metadata": {
        "id": "azNyqGayALze",
        "colab_type": "code",
        "colab": {}
      },
      "source": [
        "from tensorflow.keras.models import Model\n",
        "from tensorflow.keras.metrics import Recall\n",
        "from tensorflow.keras.optimizers import RMSprop\n",
        "\n",
        "recall=Recall()\n",
        "fmodel = Model( pre_trained_model.input, model) \n",
        "\n",
        "fmodel.compile(optimizer = 'adam', \n",
        "              loss = 'categorical_crossentropy', \n",
        "              metrics = ['accuracy',recall])\n",
        "# model.summary()"
      ],
      "execution_count": 0,
      "outputs": []
    },
    {
      "cell_type": "code",
      "metadata": {
        "id": "uYRg2tl8dyxf",
        "colab_type": "code",
        "colab": {}
      },
      "source": [
        "from tensorflow.keras.callbacks import EarlyStopping,ReduceLROnPlateau\n",
        "\n",
        "\n",
        "early=EarlyStopping(monitor='accuracy',patience=3,mode='auto')\n",
        "reduce_lr = ReduceLROnPlateau(monitor='accuracy', factor=0.5, patience=2, verbose=1,cooldown=0, mode='auto',min_delta=0.0001, min_lr=0)\n",
        "batch_size=90"
      ],
      "execution_count": 0,
      "outputs": []
    },
    {
      "cell_type": "code",
      "metadata": {
        "id": "OWUBo-j3wc8f",
        "colab_type": "code",
        "outputId": "cd5cf64c-a077-441d-fb51-78d2ade8a673",
        "colab": {
          "base_uri": "https://localhost:8080/",
          "height": 1000
        }
      },
      "source": [
        "fmodel.fit(datagen.flow(trainx, testx,batch_size=90),epochs=50,validation_data=datagen.flow(trainy, testy,batch_size=16),callbacks=[reduce_lr,early])"
      ],
      "execution_count": 30,
      "outputs": [
        {
          "output_type": "stream",
          "text": [
            "Epoch 1/50\n",
            "88/88 [==============================] - 41s 470ms/step - loss: 2.6472 - accuracy: 0.6374 - recall: 0.5701 - val_loss: 0.8429 - val_accuracy: 0.7180 - val_recall: 0.6382 - lr: 0.0010\n",
            "Epoch 2/50\n",
            "88/88 [==============================] - 38s 435ms/step - loss: 0.8085 - accuracy: 0.7254 - recall: 0.6402 - val_loss: 0.7897 - val_accuracy: 0.7276 - val_recall: 0.6579 - lr: 0.0010\n",
            "Epoch 3/50\n",
            "88/88 [==============================] - 38s 436ms/step - loss: 0.7713 - accuracy: 0.7396 - recall: 0.6632 - val_loss: 0.8133 - val_accuracy: 0.7216 - val_recall: 0.6407 - lr: 0.0010\n",
            "Epoch 4/50\n",
            "88/88 [==============================] - 38s 435ms/step - loss: 0.7073 - accuracy: 0.7631 - recall: 0.6933 - val_loss: 0.7709 - val_accuracy: 0.7281 - val_recall: 0.6594 - lr: 0.0010\n",
            "Epoch 5/50\n",
            "88/88 [==============================] - 38s 434ms/step - loss: 0.6481 - accuracy: 0.7783 - recall: 0.7158 - val_loss: 0.7855 - val_accuracy: 0.7398 - val_recall: 0.6897 - lr: 0.0010\n",
            "Epoch 6/50\n",
            "88/88 [==============================] - 38s 435ms/step - loss: 0.5951 - accuracy: 0.7959 - recall: 0.7393 - val_loss: 0.7626 - val_accuracy: 0.7671 - val_recall: 0.7130 - lr: 0.0010\n",
            "Epoch 7/50\n",
            "88/88 [==============================] - 38s 434ms/step - loss: 0.5410 - accuracy: 0.8113 - recall: 0.7638 - val_loss: 0.7671 - val_accuracy: 0.7539 - val_recall: 0.7115 - lr: 0.0010\n",
            "Epoch 8/50\n",
            "88/88 [==============================] - 38s 436ms/step - loss: 0.5204 - accuracy: 0.8185 - recall: 0.7705 - val_loss: 0.8509 - val_accuracy: 0.7504 - val_recall: 0.7221 - lr: 0.0010\n",
            "Epoch 9/50\n",
            "88/88 [==============================] - 38s 437ms/step - loss: 0.4772 - accuracy: 0.8377 - recall: 0.7981 - val_loss: 0.8186 - val_accuracy: 0.7509 - val_recall: 0.7064 - lr: 0.0010\n",
            "Epoch 10/50\n",
            "88/88 [==============================] - 38s 435ms/step - loss: 0.4425 - accuracy: 0.8470 - recall: 0.8137 - val_loss: 0.7779 - val_accuracy: 0.7539 - val_recall: 0.7130 - lr: 0.0010\n",
            "Epoch 11/50\n",
            "88/88 [==============================] - 38s 436ms/step - loss: 0.4024 - accuracy: 0.8569 - recall: 0.8269 - val_loss: 0.7919 - val_accuracy: 0.7499 - val_recall: 0.6948 - lr: 0.0010\n",
            "Epoch 12/50\n",
            "88/88 [==============================] - 38s 435ms/step - loss: 0.3880 - accuracy: 0.8631 - recall: 0.8359 - val_loss: 0.8164 - val_accuracy: 0.7559 - val_recall: 0.7221 - lr: 0.0010\n",
            "Epoch 13/50\n",
            "88/88 [==============================] - 38s 435ms/step - loss: 0.3544 - accuracy: 0.8718 - recall: 0.8455 - val_loss: 0.8905 - val_accuracy: 0.7580 - val_recall: 0.7337 - lr: 0.0010\n",
            "Epoch 14/50\n",
            "88/88 [==============================] - 38s 435ms/step - loss: 0.3394 - accuracy: 0.8800 - recall: 0.8567 - val_loss: 0.8216 - val_accuracy: 0.7620 - val_recall: 0.7287 - lr: 0.0010\n",
            "Epoch 15/50\n",
            "88/88 [==============================] - 38s 435ms/step - loss: 0.3277 - accuracy: 0.8855 - recall: 0.8615 - val_loss: 0.8210 - val_accuracy: 0.7645 - val_recall: 0.7292 - lr: 0.0010\n",
            "Epoch 16/50\n",
            "88/88 [==============================] - 38s 436ms/step - loss: 0.2933 - accuracy: 0.8926 - recall: 0.8719 - val_loss: 0.8535 - val_accuracy: 0.7554 - val_recall: 0.7231 - lr: 0.0010\n",
            "Epoch 17/50\n",
            "88/88 [==============================] - 38s 435ms/step - loss: 0.3063 - accuracy: 0.8902 - recall: 0.8667 - val_loss: 0.9482 - val_accuracy: 0.7600 - val_recall: 0.7408 - lr: 0.0010\n",
            "Epoch 18/50\n",
            "88/88 [==============================] - 38s 436ms/step - loss: 0.2952 - accuracy: 0.8953 - recall: 0.8771 - val_loss: 0.8967 - val_accuracy: 0.7681 - val_recall: 0.7463 - lr: 0.0010\n",
            "Epoch 19/50\n",
            "88/88 [==============================] - 38s 435ms/step - loss: 0.2922 - accuracy: 0.8962 - recall: 0.8763 - val_loss: 0.9857 - val_accuracy: 0.7489 - val_recall: 0.7236 - lr: 0.0010\n",
            "Epoch 20/50\n",
            "88/88 [==============================] - 38s 436ms/step - loss: 0.2799 - accuracy: 0.9015 - recall: 0.8809 - val_loss: 0.9438 - val_accuracy: 0.7590 - val_recall: 0.7337 - lr: 0.0010\n",
            "Epoch 21/50\n",
            "88/88 [==============================] - 38s 436ms/step - loss: 0.2686 - accuracy: 0.9063 - recall: 0.8897 - val_loss: 0.9830 - val_accuracy: 0.7736 - val_recall: 0.7534 - lr: 0.0010\n",
            "Epoch 22/50\n",
            "88/88 [==============================] - 38s 435ms/step - loss: 0.2650 - accuracy: 0.9087 - recall: 0.8869 - val_loss: 1.0096 - val_accuracy: 0.7630 - val_recall: 0.7393 - lr: 0.0010\n",
            "Epoch 23/50\n",
            "88/88 [==============================] - 38s 436ms/step - loss: 0.2425 - accuracy: 0.9130 - recall: 0.8988 - val_loss: 0.9168 - val_accuracy: 0.7625 - val_recall: 0.7266 - lr: 0.0010\n",
            "Epoch 24/50\n",
            "88/88 [==============================] - 38s 435ms/step - loss: 0.2367 - accuracy: 0.9166 - recall: 0.8996 - val_loss: 1.1248 - val_accuracy: 0.7544 - val_recall: 0.7383 - lr: 0.0010\n",
            "Epoch 25/50\n",
            "88/88 [==============================] - 38s 436ms/step - loss: 0.2346 - accuracy: 0.9164 - recall: 0.8989 - val_loss: 0.9904 - val_accuracy: 0.7645 - val_recall: 0.7352 - lr: 0.0010\n",
            "Epoch 26/50\n",
            "88/88 [==============================] - 38s 436ms/step - loss: 0.2136 - accuracy: 0.9255 - recall: 0.9087 - val_loss: 1.1707 - val_accuracy: 0.7650 - val_recall: 0.7524 - lr: 0.0010\n",
            "Epoch 27/50\n",
            "23/88 [======>.......................] - ETA: 20s - loss: 0.2154 - accuracy: 0.9300 - recall: 0.9135"
          ],
          "name": "stdout"
        },
        {
          "output_type": "error",
          "ename": "KeyboardInterrupt",
          "evalue": "ignored",
          "traceback": [
            "\u001b[0;31m---------------------------------------------------------------------------\u001b[0m",
            "\u001b[0;31mKeyboardInterrupt\u001b[0m                         Traceback (most recent call last)",
            "\u001b[0;32m<ipython-input-30-282f67f9a45d>\u001b[0m in \u001b[0;36m<module>\u001b[0;34m()\u001b[0m\n\u001b[0;32m----> 1\u001b[0;31m \u001b[0mfmodel\u001b[0m\u001b[0;34m.\u001b[0m\u001b[0mfit\u001b[0m\u001b[0;34m(\u001b[0m\u001b[0mdatagen\u001b[0m\u001b[0;34m.\u001b[0m\u001b[0mflow\u001b[0m\u001b[0;34m(\u001b[0m\u001b[0mtrainx\u001b[0m\u001b[0;34m,\u001b[0m \u001b[0mtestx\u001b[0m\u001b[0;34m,\u001b[0m\u001b[0mbatch_size\u001b[0m\u001b[0;34m=\u001b[0m\u001b[0;36m90\u001b[0m\u001b[0;34m)\u001b[0m\u001b[0;34m,\u001b[0m\u001b[0mepochs\u001b[0m\u001b[0;34m=\u001b[0m\u001b[0;36m50\u001b[0m\u001b[0;34m,\u001b[0m\u001b[0mvalidation_data\u001b[0m\u001b[0;34m=\u001b[0m\u001b[0mdatagen\u001b[0m\u001b[0;34m.\u001b[0m\u001b[0mflow\u001b[0m\u001b[0;34m(\u001b[0m\u001b[0mtrainy\u001b[0m\u001b[0;34m,\u001b[0m \u001b[0mtesty\u001b[0m\u001b[0;34m,\u001b[0m\u001b[0mbatch_size\u001b[0m\u001b[0;34m=\u001b[0m\u001b[0;36m16\u001b[0m\u001b[0;34m)\u001b[0m\u001b[0;34m,\u001b[0m\u001b[0mcallbacks\u001b[0m\u001b[0;34m=\u001b[0m\u001b[0;34m[\u001b[0m\u001b[0mreduce_lr\u001b[0m\u001b[0;34m,\u001b[0m\u001b[0mearly\u001b[0m\u001b[0;34m]\u001b[0m\u001b[0;34m)\u001b[0m\u001b[0;34m\u001b[0m\u001b[0;34m\u001b[0m\u001b[0m\n\u001b[0m",
            "\u001b[0;32m/usr/local/lib/python3.6/dist-packages/tensorflow/python/keras/engine/training.py\u001b[0m in \u001b[0;36m_method_wrapper\u001b[0;34m(self, *args, **kwargs)\u001b[0m\n\u001b[1;32m     64\u001b[0m   \u001b[0;32mdef\u001b[0m \u001b[0m_method_wrapper\u001b[0m\u001b[0;34m(\u001b[0m\u001b[0mself\u001b[0m\u001b[0;34m,\u001b[0m \u001b[0;34m*\u001b[0m\u001b[0margs\u001b[0m\u001b[0;34m,\u001b[0m \u001b[0;34m**\u001b[0m\u001b[0mkwargs\u001b[0m\u001b[0;34m)\u001b[0m\u001b[0;34m:\u001b[0m\u001b[0;34m\u001b[0m\u001b[0;34m\u001b[0m\u001b[0m\n\u001b[1;32m     65\u001b[0m     \u001b[0;32mif\u001b[0m \u001b[0;32mnot\u001b[0m \u001b[0mself\u001b[0m\u001b[0;34m.\u001b[0m\u001b[0m_in_multi_worker_mode\u001b[0m\u001b[0;34m(\u001b[0m\u001b[0;34m)\u001b[0m\u001b[0;34m:\u001b[0m  \u001b[0;31m# pylint: disable=protected-access\u001b[0m\u001b[0;34m\u001b[0m\u001b[0;34m\u001b[0m\u001b[0m\n\u001b[0;32m---> 66\u001b[0;31m       \u001b[0;32mreturn\u001b[0m \u001b[0mmethod\u001b[0m\u001b[0;34m(\u001b[0m\u001b[0mself\u001b[0m\u001b[0;34m,\u001b[0m \u001b[0;34m*\u001b[0m\u001b[0margs\u001b[0m\u001b[0;34m,\u001b[0m \u001b[0;34m**\u001b[0m\u001b[0mkwargs\u001b[0m\u001b[0;34m)\u001b[0m\u001b[0;34m\u001b[0m\u001b[0;34m\u001b[0m\u001b[0m\n\u001b[0m\u001b[1;32m     67\u001b[0m \u001b[0;34m\u001b[0m\u001b[0m\n\u001b[1;32m     68\u001b[0m     \u001b[0;31m# Running inside `run_distribute_coordinator` already.\u001b[0m\u001b[0;34m\u001b[0m\u001b[0;34m\u001b[0m\u001b[0;34m\u001b[0m\u001b[0m\n",
            "\u001b[0;32m/usr/local/lib/python3.6/dist-packages/tensorflow/python/keras/engine/training.py\u001b[0m in \u001b[0;36mfit\u001b[0;34m(self, x, y, batch_size, epochs, verbose, callbacks, validation_split, validation_data, shuffle, class_weight, sample_weight, initial_epoch, steps_per_epoch, validation_steps, validation_batch_size, validation_freq, max_queue_size, workers, use_multiprocessing)\u001b[0m\n\u001b[1;32m    846\u001b[0m                 batch_size=batch_size):\n\u001b[1;32m    847\u001b[0m               \u001b[0mcallbacks\u001b[0m\u001b[0;34m.\u001b[0m\u001b[0mon_train_batch_begin\u001b[0m\u001b[0;34m(\u001b[0m\u001b[0mstep\u001b[0m\u001b[0;34m)\u001b[0m\u001b[0;34m\u001b[0m\u001b[0;34m\u001b[0m\u001b[0m\n\u001b[0;32m--> 848\u001b[0;31m               \u001b[0mtmp_logs\u001b[0m \u001b[0;34m=\u001b[0m \u001b[0mtrain_function\u001b[0m\u001b[0;34m(\u001b[0m\u001b[0miterator\u001b[0m\u001b[0;34m)\u001b[0m\u001b[0;34m\u001b[0m\u001b[0;34m\u001b[0m\u001b[0m\n\u001b[0m\u001b[1;32m    849\u001b[0m               \u001b[0;31m# Catch OutOfRangeError for Datasets of unknown size.\u001b[0m\u001b[0;34m\u001b[0m\u001b[0;34m\u001b[0m\u001b[0;34m\u001b[0m\u001b[0m\n\u001b[1;32m    850\u001b[0m               \u001b[0;31m# This blocks until the batch has finished executing.\u001b[0m\u001b[0;34m\u001b[0m\u001b[0;34m\u001b[0m\u001b[0;34m\u001b[0m\u001b[0m\n",
            "\u001b[0;32m/usr/local/lib/python3.6/dist-packages/tensorflow/python/eager/def_function.py\u001b[0m in \u001b[0;36m__call__\u001b[0;34m(self, *args, **kwds)\u001b[0m\n\u001b[1;32m    578\u001b[0m         \u001b[0mxla_context\u001b[0m\u001b[0;34m.\u001b[0m\u001b[0mExit\u001b[0m\u001b[0;34m(\u001b[0m\u001b[0;34m)\u001b[0m\u001b[0;34m\u001b[0m\u001b[0;34m\u001b[0m\u001b[0m\n\u001b[1;32m    579\u001b[0m     \u001b[0;32melse\u001b[0m\u001b[0;34m:\u001b[0m\u001b[0;34m\u001b[0m\u001b[0;34m\u001b[0m\u001b[0m\n\u001b[0;32m--> 580\u001b[0;31m       \u001b[0mresult\u001b[0m \u001b[0;34m=\u001b[0m \u001b[0mself\u001b[0m\u001b[0;34m.\u001b[0m\u001b[0m_call\u001b[0m\u001b[0;34m(\u001b[0m\u001b[0;34m*\u001b[0m\u001b[0margs\u001b[0m\u001b[0;34m,\u001b[0m \u001b[0;34m**\u001b[0m\u001b[0mkwds\u001b[0m\u001b[0;34m)\u001b[0m\u001b[0;34m\u001b[0m\u001b[0;34m\u001b[0m\u001b[0m\n\u001b[0m\u001b[1;32m    581\u001b[0m \u001b[0;34m\u001b[0m\u001b[0m\n\u001b[1;32m    582\u001b[0m     \u001b[0;32mif\u001b[0m \u001b[0mtracing_count\u001b[0m \u001b[0;34m==\u001b[0m \u001b[0mself\u001b[0m\u001b[0;34m.\u001b[0m\u001b[0m_get_tracing_count\u001b[0m\u001b[0;34m(\u001b[0m\u001b[0;34m)\u001b[0m\u001b[0;34m:\u001b[0m\u001b[0;34m\u001b[0m\u001b[0;34m\u001b[0m\u001b[0m\n",
            "\u001b[0;32m/usr/local/lib/python3.6/dist-packages/tensorflow/python/eager/def_function.py\u001b[0m in \u001b[0;36m_call\u001b[0;34m(self, *args, **kwds)\u001b[0m\n\u001b[1;32m    609\u001b[0m       \u001b[0;31m# In this case we have created variables on the first call, so we run the\u001b[0m\u001b[0;34m\u001b[0m\u001b[0;34m\u001b[0m\u001b[0;34m\u001b[0m\u001b[0m\n\u001b[1;32m    610\u001b[0m       \u001b[0;31m# defunned version which is guaranteed to never create variables.\u001b[0m\u001b[0;34m\u001b[0m\u001b[0;34m\u001b[0m\u001b[0;34m\u001b[0m\u001b[0m\n\u001b[0;32m--> 611\u001b[0;31m       \u001b[0;32mreturn\u001b[0m \u001b[0mself\u001b[0m\u001b[0;34m.\u001b[0m\u001b[0m_stateless_fn\u001b[0m\u001b[0;34m(\u001b[0m\u001b[0;34m*\u001b[0m\u001b[0margs\u001b[0m\u001b[0;34m,\u001b[0m \u001b[0;34m**\u001b[0m\u001b[0mkwds\u001b[0m\u001b[0;34m)\u001b[0m  \u001b[0;31m# pylint: disable=not-callable\u001b[0m\u001b[0;34m\u001b[0m\u001b[0;34m\u001b[0m\u001b[0m\n\u001b[0m\u001b[1;32m    612\u001b[0m     \u001b[0;32melif\u001b[0m \u001b[0mself\u001b[0m\u001b[0;34m.\u001b[0m\u001b[0m_stateful_fn\u001b[0m \u001b[0;32mis\u001b[0m \u001b[0;32mnot\u001b[0m \u001b[0;32mNone\u001b[0m\u001b[0;34m:\u001b[0m\u001b[0;34m\u001b[0m\u001b[0;34m\u001b[0m\u001b[0m\n\u001b[1;32m    613\u001b[0m       \u001b[0;31m# Release the lock early so that multiple threads can perform the call\u001b[0m\u001b[0;34m\u001b[0m\u001b[0;34m\u001b[0m\u001b[0;34m\u001b[0m\u001b[0m\n",
            "\u001b[0;32m/usr/local/lib/python3.6/dist-packages/tensorflow/python/eager/function.py\u001b[0m in \u001b[0;36m__call__\u001b[0;34m(self, *args, **kwargs)\u001b[0m\n\u001b[1;32m   2418\u001b[0m     \u001b[0;32mwith\u001b[0m \u001b[0mself\u001b[0m\u001b[0;34m.\u001b[0m\u001b[0m_lock\u001b[0m\u001b[0;34m:\u001b[0m\u001b[0;34m\u001b[0m\u001b[0;34m\u001b[0m\u001b[0m\n\u001b[1;32m   2419\u001b[0m       \u001b[0mgraph_function\u001b[0m\u001b[0;34m,\u001b[0m \u001b[0margs\u001b[0m\u001b[0;34m,\u001b[0m \u001b[0mkwargs\u001b[0m \u001b[0;34m=\u001b[0m \u001b[0mself\u001b[0m\u001b[0;34m.\u001b[0m\u001b[0m_maybe_define_function\u001b[0m\u001b[0;34m(\u001b[0m\u001b[0margs\u001b[0m\u001b[0;34m,\u001b[0m \u001b[0mkwargs\u001b[0m\u001b[0;34m)\u001b[0m\u001b[0;34m\u001b[0m\u001b[0;34m\u001b[0m\u001b[0m\n\u001b[0;32m-> 2420\u001b[0;31m     \u001b[0;32mreturn\u001b[0m \u001b[0mgraph_function\u001b[0m\u001b[0;34m.\u001b[0m\u001b[0m_filtered_call\u001b[0m\u001b[0;34m(\u001b[0m\u001b[0margs\u001b[0m\u001b[0;34m,\u001b[0m \u001b[0mkwargs\u001b[0m\u001b[0;34m)\u001b[0m  \u001b[0;31m# pylint: disable=protected-access\u001b[0m\u001b[0;34m\u001b[0m\u001b[0;34m\u001b[0m\u001b[0m\n\u001b[0m\u001b[1;32m   2421\u001b[0m \u001b[0;34m\u001b[0m\u001b[0m\n\u001b[1;32m   2422\u001b[0m   \u001b[0;34m@\u001b[0m\u001b[0mproperty\u001b[0m\u001b[0;34m\u001b[0m\u001b[0;34m\u001b[0m\u001b[0m\n",
            "\u001b[0;32m/usr/local/lib/python3.6/dist-packages/tensorflow/python/eager/function.py\u001b[0m in \u001b[0;36m_filtered_call\u001b[0;34m(self, args, kwargs)\u001b[0m\n\u001b[1;32m   1663\u001b[0m          if isinstance(t, (ops.Tensor,\n\u001b[1;32m   1664\u001b[0m                            resource_variable_ops.BaseResourceVariable))),\n\u001b[0;32m-> 1665\u001b[0;31m         self.captured_inputs)\n\u001b[0m\u001b[1;32m   1666\u001b[0m \u001b[0;34m\u001b[0m\u001b[0m\n\u001b[1;32m   1667\u001b[0m   \u001b[0;32mdef\u001b[0m \u001b[0m_call_flat\u001b[0m\u001b[0;34m(\u001b[0m\u001b[0mself\u001b[0m\u001b[0;34m,\u001b[0m \u001b[0margs\u001b[0m\u001b[0;34m,\u001b[0m \u001b[0mcaptured_inputs\u001b[0m\u001b[0;34m,\u001b[0m \u001b[0mcancellation_manager\u001b[0m\u001b[0;34m=\u001b[0m\u001b[0;32mNone\u001b[0m\u001b[0;34m)\u001b[0m\u001b[0;34m:\u001b[0m\u001b[0;34m\u001b[0m\u001b[0;34m\u001b[0m\u001b[0m\n",
            "\u001b[0;32m/usr/local/lib/python3.6/dist-packages/tensorflow/python/eager/function.py\u001b[0m in \u001b[0;36m_call_flat\u001b[0;34m(self, args, captured_inputs, cancellation_manager)\u001b[0m\n\u001b[1;32m   1744\u001b[0m       \u001b[0;31m# No tape is watching; skip to running the function.\u001b[0m\u001b[0;34m\u001b[0m\u001b[0;34m\u001b[0m\u001b[0;34m\u001b[0m\u001b[0m\n\u001b[1;32m   1745\u001b[0m       return self._build_call_outputs(self._inference_function.call(\n\u001b[0;32m-> 1746\u001b[0;31m           ctx, args, cancellation_manager=cancellation_manager))\n\u001b[0m\u001b[1;32m   1747\u001b[0m     forward_backward = self._select_forward_and_backward_functions(\n\u001b[1;32m   1748\u001b[0m         \u001b[0margs\u001b[0m\u001b[0;34m,\u001b[0m\u001b[0;34m\u001b[0m\u001b[0;34m\u001b[0m\u001b[0m\n",
            "\u001b[0;32m/usr/local/lib/python3.6/dist-packages/tensorflow/python/eager/function.py\u001b[0m in \u001b[0;36mcall\u001b[0;34m(self, ctx, args, cancellation_manager)\u001b[0m\n\u001b[1;32m    596\u001b[0m               \u001b[0minputs\u001b[0m\u001b[0;34m=\u001b[0m\u001b[0margs\u001b[0m\u001b[0;34m,\u001b[0m\u001b[0;34m\u001b[0m\u001b[0;34m\u001b[0m\u001b[0m\n\u001b[1;32m    597\u001b[0m               \u001b[0mattrs\u001b[0m\u001b[0;34m=\u001b[0m\u001b[0mattrs\u001b[0m\u001b[0;34m,\u001b[0m\u001b[0;34m\u001b[0m\u001b[0;34m\u001b[0m\u001b[0m\n\u001b[0;32m--> 598\u001b[0;31m               ctx=ctx)\n\u001b[0m\u001b[1;32m    599\u001b[0m         \u001b[0;32melse\u001b[0m\u001b[0;34m:\u001b[0m\u001b[0;34m\u001b[0m\u001b[0;34m\u001b[0m\u001b[0m\n\u001b[1;32m    600\u001b[0m           outputs = execute.execute_with_cancellation(\n",
            "\u001b[0;32m/usr/local/lib/python3.6/dist-packages/tensorflow/python/eager/execute.py\u001b[0m in \u001b[0;36mquick_execute\u001b[0;34m(op_name, num_outputs, inputs, attrs, ctx, name)\u001b[0m\n\u001b[1;32m     58\u001b[0m     \u001b[0mctx\u001b[0m\u001b[0;34m.\u001b[0m\u001b[0mensure_initialized\u001b[0m\u001b[0;34m(\u001b[0m\u001b[0;34m)\u001b[0m\u001b[0;34m\u001b[0m\u001b[0;34m\u001b[0m\u001b[0m\n\u001b[1;32m     59\u001b[0m     tensors = pywrap_tfe.TFE_Py_Execute(ctx._handle, device_name, op_name,\n\u001b[0;32m---> 60\u001b[0;31m                                         inputs, attrs, num_outputs)\n\u001b[0m\u001b[1;32m     61\u001b[0m   \u001b[0;32mexcept\u001b[0m \u001b[0mcore\u001b[0m\u001b[0;34m.\u001b[0m\u001b[0m_NotOkStatusException\u001b[0m \u001b[0;32mas\u001b[0m \u001b[0me\u001b[0m\u001b[0;34m:\u001b[0m\u001b[0;34m\u001b[0m\u001b[0;34m\u001b[0m\u001b[0m\n\u001b[1;32m     62\u001b[0m     \u001b[0;32mif\u001b[0m \u001b[0mname\u001b[0m \u001b[0;32mis\u001b[0m \u001b[0;32mnot\u001b[0m \u001b[0;32mNone\u001b[0m\u001b[0;34m:\u001b[0m\u001b[0;34m\u001b[0m\u001b[0;34m\u001b[0m\u001b[0m\n",
            "\u001b[0;31mKeyboardInterrupt\u001b[0m: "
          ]
        }
      ]
    },
    {
      "cell_type": "code",
      "metadata": {
        "id": "PhYcfDh8CGvg",
        "colab_type": "code",
        "colab": {
          "base_uri": "https://localhost:8080/",
          "height": 284
        },
        "outputId": "cbe4eb52-42a4-463c-abb2-61a8575a2b22"
      },
      "source": [
        "loss=pd.DataFrame(fmodel.history.history)\n",
        "loss=loss[['accuracy','val_accuracy']]\n",
        "loss.plot()"
      ],
      "execution_count": 31,
      "outputs": [
        {
          "output_type": "execute_result",
          "data": {
            "text/plain": [
              "<matplotlib.axes._subplots.AxesSubplot at 0x7f89ca655f98>"
            ]
          },
          "metadata": {
            "tags": []
          },
          "execution_count": 31
        },
        {
          "output_type": "display_data",
          "data": {
            "image/png": "[encoded data removed]",
            "text/plain": [
              "<Figure size 432x288 with 1 Axes>"
            ]
          },
          "metadata": {
            "tags": [],
            "needs_background": "light"
          }
        }
      ]
    },
    {
      "cell_type": "code",
      "metadata": {
        "id": "1STWqllGVaZc",
        "colab_type": "code",
        "colab": {}
      },
      "source": [
        "# model.save('drive/My Drive/model/model final(180x135).h5')"
      ],
      "execution_count": 0,
      "outputs": []
    }
  ]
}
